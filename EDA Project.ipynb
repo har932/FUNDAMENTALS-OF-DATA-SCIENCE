{
 "cells": [
  {
   "cell_type": "code",
   "execution_count": 1,
   "metadata": {},
   "outputs": [],
   "source": [
    "import pandas as pd\n",
    "import numpy as np\n",
    "from decimal import Decimal\n",
    "import seaborn as sns\n",
    "import warnings\n",
    "\n",
    "warnings.filterwarnings('ignore')"
   ]
  },
  {
   "cell_type": "code",
   "execution_count": 2,
   "metadata": {},
   "outputs": [
    {
     "data": {
      "text/html": [
       "<div>\n",
       "<style scoped>\n",
       "    .dataframe tbody tr th:only-of-type {\n",
       "        vertical-align: middle;\n",
       "    }\n",
       "\n",
       "    .dataframe tbody tr th {\n",
       "        vertical-align: top;\n",
       "    }\n",
       "\n",
       "    .dataframe thead th {\n",
       "        text-align: right;\n",
       "    }\n",
       "</style>\n",
       "<table border=\"1\" class=\"dataframe\">\n",
       "  <thead>\n",
       "    <tr style=\"text-align: right;\">\n",
       "      <th></th>\n",
       "      <th>id</th>\n",
       "      <th>carat</th>\n",
       "      <th>cut</th>\n",
       "      <th>color</th>\n",
       "      <th>clarity</th>\n",
       "      <th>popularity</th>\n",
       "      <th>depth</th>\n",
       "      <th>table</th>\n",
       "      <th>price</th>\n",
       "      <th>x</th>\n",
       "      <th>y</th>\n",
       "      <th>z</th>\n",
       "    </tr>\n",
       "  </thead>\n",
       "  <tbody>\n",
       "    <tr>\n",
       "      <th>0</th>\n",
       "      <td>1</td>\n",
       "      <td>0.23</td>\n",
       "      <td>Ideal</td>\n",
       "      <td>E</td>\n",
       "      <td>SI2</td>\n",
       "      <td>Good</td>\n",
       "      <td>61.5</td>\n",
       "      <td>55.0</td>\n",
       "      <td>326.0</td>\n",
       "      <td>3.95</td>\n",
       "      <td>3.98</td>\n",
       "      <td>2.43</td>\n",
       "    </tr>\n",
       "    <tr>\n",
       "      <th>1</th>\n",
       "      <td>2</td>\n",
       "      <td>0.21</td>\n",
       "      <td>Premium</td>\n",
       "      <td>E</td>\n",
       "      <td>SI1</td>\n",
       "      <td>Good</td>\n",
       "      <td>59.8</td>\n",
       "      <td>61.0</td>\n",
       "      <td>326.0</td>\n",
       "      <td>3.89</td>\n",
       "      <td>3.84</td>\n",
       "      <td>2.31</td>\n",
       "    </tr>\n",
       "    <tr>\n",
       "      <th>2</th>\n",
       "      <td>3</td>\n",
       "      <td>0.23</td>\n",
       "      <td>Good</td>\n",
       "      <td>E</td>\n",
       "      <td>VS1</td>\n",
       "      <td>Fair</td>\n",
       "      <td>56.9</td>\n",
       "      <td>65.0</td>\n",
       "      <td>327.0</td>\n",
       "      <td>4.05</td>\n",
       "      <td>4.07</td>\n",
       "      <td>2.31</td>\n",
       "    </tr>\n",
       "    <tr>\n",
       "      <th>3</th>\n",
       "      <td>4</td>\n",
       "      <td>0.29</td>\n",
       "      <td>Premium</td>\n",
       "      <td>I</td>\n",
       "      <td>VS2</td>\n",
       "      <td>Poor</td>\n",
       "      <td>62.4</td>\n",
       "      <td>58.0</td>\n",
       "      <td>334.0</td>\n",
       "      <td>4.20</td>\n",
       "      <td>4.23</td>\n",
       "      <td>2.63</td>\n",
       "    </tr>\n",
       "    <tr>\n",
       "      <th>4</th>\n",
       "      <td>5</td>\n",
       "      <td>0.31</td>\n",
       "      <td>Good</td>\n",
       "      <td>J</td>\n",
       "      <td>SI2</td>\n",
       "      <td>Good</td>\n",
       "      <td>63.3</td>\n",
       "      <td>58.0</td>\n",
       "      <td>335.0</td>\n",
       "      <td>4.34</td>\n",
       "      <td>4.35</td>\n",
       "      <td>2.75</td>\n",
       "    </tr>\n",
       "  </tbody>\n",
       "</table>\n",
       "</div>"
      ],
      "text/plain": [
       "   id  carat      cut color clarity popularity  depth  table  price     x  \\\n",
       "0   1   0.23    Ideal     E     SI2       Good   61.5   55.0  326.0  3.95   \n",
       "1   2   0.21  Premium     E     SI1       Good   59.8   61.0  326.0  3.89   \n",
       "2   3   0.23     Good     E     VS1       Fair   56.9   65.0  327.0  4.05   \n",
       "3   4   0.29  Premium     I     VS2       Poor   62.4   58.0  334.0  4.20   \n",
       "4   5   0.31     Good     J     SI2       Good   63.3   58.0  335.0  4.34   \n",
       "\n",
       "      y     z  \n",
       "0  3.98  2.43  \n",
       "1  3.84  2.31  \n",
       "2  4.07  2.31  \n",
       "3  4.23  2.63  \n",
       "4  4.35  2.75  "
      ]
     },
     "execution_count": 2,
     "metadata": {},
     "output_type": "execute_result"
    }
   ],
   "source": [
    "df=pd.read_csv(\"data/diamonds-m.csv\")\n",
    "df.head()\n"
   ]
  },
  {
   "cell_type": "markdown",
   "metadata": {},
   "source": [
    "# 1 . What is structure of the dataset . "
   ]
  },
  {
   "cell_type": "code",
   "execution_count": 3,
   "metadata": {},
   "outputs": [
    {
     "data": {
      "text/plain": [
       "(53940, 12)"
      ]
     },
     "execution_count": 3,
     "metadata": {},
     "output_type": "execute_result"
    }
   ],
   "source": [
    "df.shape"
   ]
  },
  {
   "cell_type": "markdown",
   "metadata": {},
   "source": [
    "# 2. What are the DataTypes of each columns?"
   ]
  },
  {
   "cell_type": "code",
   "execution_count": 4,
   "metadata": {},
   "outputs": [
    {
     "data": {
      "text/plain": [
       "id              int64\n",
       "carat         float64\n",
       "cut            object\n",
       "color          object\n",
       "clarity        object\n",
       "popularity     object\n",
       "depth         float64\n",
       "table         float64\n",
       "price         float64\n",
       "x             float64\n",
       "y             float64\n",
       "z              object\n",
       "dtype: object"
      ]
     },
     "execution_count": 4,
     "metadata": {},
     "output_type": "execute_result"
    }
   ],
   "source": [
    "df.dtypes"
   ]
  },
  {
   "cell_type": "markdown",
   "metadata": {},
   "source": [
    "# 3. What is the length of alphanumeric values"
   ]
  },
  {
   "cell_type": "code",
   "execution_count": 5,
   "metadata": {},
   "outputs": [
    {
     "data": {
      "text/plain": [
       "41858"
      ]
     },
     "execution_count": 5,
     "metadata": {},
     "output_type": "execute_result"
    }
   ],
   "source": [
    "df.cut.str.isalnum().sum()"
   ]
  },
  {
   "cell_type": "code",
   "execution_count": 6,
   "metadata": {},
   "outputs": [
    {
     "data": {
      "text/plain": [
       "53937"
      ]
     },
     "execution_count": 6,
     "metadata": {},
     "output_type": "execute_result"
    }
   ],
   "source": [
    "df.color.str.isalnum().sum()"
   ]
  },
  {
   "cell_type": "code",
   "execution_count": 7,
   "metadata": {},
   "outputs": [
    {
     "data": {
      "text/plain": [
       "53940"
      ]
     },
     "execution_count": 7,
     "metadata": {},
     "output_type": "execute_result"
    }
   ],
   "source": [
    "df.clarity.str.isalnum().sum()"
   ]
  },
  {
   "cell_type": "code",
   "execution_count": 8,
   "metadata": {},
   "outputs": [
    {
     "data": {
      "text/plain": [
       "53930"
      ]
     },
     "execution_count": 8,
     "metadata": {},
     "output_type": "execute_result"
    }
   ],
   "source": [
    "df.popularity.str.isalnum().sum()"
   ]
  },
  {
   "cell_type": "code",
   "execution_count": 9,
   "metadata": {},
   "outputs": [
    {
     "data": {
      "text/plain": [
       "855"
      ]
     },
     "execution_count": 9,
     "metadata": {},
     "output_type": "execute_result"
    }
   ],
   "source": [
    "df.z.str.isalnum().sum()#Not a alphanumeric column"
   ]
  },
  {
   "cell_type": "code",
   "execution_count": null,
   "metadata": {},
   "outputs": [],
   "source": []
  },
  {
   "cell_type": "markdown",
   "metadata": {},
   "source": [
    "# 4. What are precision and scale of numeric columns?"
   ]
  },
  {
   "cell_type": "code",
   "execution_count": 10,
   "metadata": {},
   "outputs": [
    {
     "data": {
      "text/plain": [
       "3"
      ]
     },
     "execution_count": 10,
     "metadata": {},
     "output_type": "execute_result"
    }
   ],
   "source": [
    "def scale(num):\n",
    "    num=Decimal(str(num))\n",
    "    count = 0\n",
    "    while num * 10**count % 1 != 0:\n",
    "        count = count+1\n",
    "    return count\n",
    "def precision(num):\n",
    "    \n",
    "    count = scale(num)\n",
    "    while num!=0:\n",
    "        count+=1\n",
    "        num=num//10\n",
    "    return count\n",
    "precision(.29)"
   ]
  },
  {
   "cell_type": "code",
   "execution_count": 11,
   "metadata": {},
   "outputs": [],
   "source": [
    "\n",
    "col=[]\n",
    "for col1 in df.columns:\n",
    "    if df[col1].dtype !='object':\n",
    "        col.append(col1)\n",
    "    else:\n",
    "        pass\n"
   ]
  },
  {
   "cell_type": "code",
   "execution_count": 12,
   "metadata": {},
   "outputs": [
    {
     "name": "stdout",
     "output_type": "stream",
     "text": [
      "0        1\n",
      "1        1\n",
      "2        1\n",
      "3        1\n",
      "4        1\n",
      "        ..\n",
      "53935    5\n",
      "53936    5\n",
      "53937    5\n",
      "53938    5\n",
      "53939    5\n",
      "Length: 53940, dtype: int64\n",
      "0        3\n",
      "1        3\n",
      "2        3\n",
      "3        3\n",
      "4        3\n",
      "        ..\n",
      "53933    3\n",
      "53934    3\n",
      "53935    2\n",
      "53936    3\n",
      "53937    3\n",
      "Length: 53938, dtype: int64\n",
      "0        3\n",
      "1        3\n",
      "2        3\n",
      "3        3\n",
      "4        3\n",
      "        ..\n",
      "53935    3\n",
      "53936    3\n",
      "53937    3\n",
      "53938    2\n",
      "53939    3\n",
      "Length: 53940, dtype: int64\n",
      "0        2\n",
      "1        2\n",
      "2        2\n",
      "3        2\n",
      "4        2\n",
      "        ..\n",
      "53935    2\n",
      "53936    2\n",
      "53937    2\n",
      "53938    2\n",
      "53939    2\n",
      "Length: 53940, dtype: int64\n",
      "0        3\n",
      "1        3\n",
      "2        3\n",
      "3        3\n",
      "4        3\n",
      "        ..\n",
      "53931    4\n",
      "53932    4\n",
      "53933    4\n",
      "53934    4\n",
      "53935    4\n",
      "Length: 53936, dtype: int64\n",
      "0        3\n",
      "1        3\n",
      "2        3\n",
      "3        2\n",
      "4        3\n",
      "        ..\n",
      "53935    3\n",
      "53936    3\n",
      "53937    3\n",
      "53938    3\n",
      "53939    3\n",
      "Length: 53940, dtype: int64\n",
      "0        3\n",
      "1        3\n",
      "2        3\n",
      "3        3\n",
      "4        3\n",
      "        ..\n",
      "53935    3\n",
      "53936    3\n",
      "53937    3\n",
      "53938    3\n",
      "53939    3\n",
      "Length: 53940, dtype: int64\n",
      "['id', 'carat', 'depth', 'table', 'price', 'x', 'y']\n"
     ]
    }
   ],
   "source": [
    "\n",
    "\n",
    "for col2 in col:\n",
    "    arr1=[]\n",
    "    for i in df[col2].dropna():\n",
    "        \n",
    "        arr1.append(precision(i))\n",
    "    ser1=pd.Series(arr1)\n",
    "    print(ser1)\n",
    "print(col)"
   ]
  },
  {
   "cell_type": "code",
   "execution_count": 13,
   "metadata": {},
   "outputs": [
    {
     "name": "stdout",
     "output_type": "stream",
     "text": [
      "['id', 'carat', 'depth', 'table', 'price', 'x', 'y']\n",
      "0        0\n",
      "1        0\n",
      "2        0\n",
      "3        0\n",
      "4        0\n",
      "        ..\n",
      "53935    0\n",
      "53936    0\n",
      "53937    0\n",
      "53938    0\n",
      "53939    0\n",
      "Length: 53940, dtype: int64\n",
      "0        2\n",
      "1        2\n",
      "2        2\n",
      "3        2\n",
      "4        2\n",
      "        ..\n",
      "53933    2\n",
      "53934    2\n",
      "53935    1\n",
      "53936    2\n",
      "53937    2\n",
      "Length: 53938, dtype: int64\n",
      "0        1\n",
      "1        1\n",
      "2        1\n",
      "3        1\n",
      "4        1\n",
      "        ..\n",
      "53935    1\n",
      "53936    1\n",
      "53937    1\n",
      "53938    0\n",
      "53939    1\n",
      "Length: 53940, dtype: int64\n",
      "0        0\n",
      "1        0\n",
      "2        0\n",
      "3        0\n",
      "4        0\n",
      "        ..\n",
      "53935    0\n",
      "53936    0\n",
      "53937    0\n",
      "53938    0\n",
      "53939    0\n",
      "Length: 53940, dtype: int64\n",
      "0        0\n",
      "1        0\n",
      "2        0\n",
      "3        0\n",
      "4        0\n",
      "        ..\n",
      "53931    0\n",
      "53932    0\n",
      "53933    0\n",
      "53934    0\n",
      "53935    0\n",
      "Length: 53936, dtype: int64\n",
      "0        2\n",
      "1        2\n",
      "2        2\n",
      "3        1\n",
      "4        2\n",
      "        ..\n",
      "53935    2\n",
      "53936    2\n",
      "53937    2\n",
      "53938    2\n",
      "53939    2\n",
      "Length: 53940, dtype: int64\n",
      "0        2\n",
      "1        2\n",
      "2        2\n",
      "3        2\n",
      "4        2\n",
      "        ..\n",
      "53935    2\n",
      "53936    2\n",
      "53937    2\n",
      "53938    2\n",
      "53939    2\n",
      "Length: 53940, dtype: int64\n"
     ]
    }
   ],
   "source": [
    "\n",
    "\n",
    "        \n",
    "        \n",
    "\n",
    "print(col)\n",
    "for col2 in col:\n",
    "    arr2=[]\n",
    "    for i in df[col2].dropna():\n",
    "        \n",
    "        arr2.append(scale(i))\n",
    "    ser=pd.Series(arr2)\n",
    "    print(ser)\n",
    "\n",
    "        "
   ]
  },
  {
   "cell_type": "markdown",
   "metadata": {},
   "source": [
    "# 5.1 For each column find number of null values"
   ]
  },
  {
   "cell_type": "code",
   "execution_count": 14,
   "metadata": {},
   "outputs": [
    {
     "name": "stdout",
     "output_type": "stream",
     "text": [
      "Number of Null values in column id: 0\n",
      "Number of Null values in column carat: 2\n",
      "Number of Null values in column cut: 0\n",
      "Number of Null values in column color: 3\n",
      "Number of Null values in column clarity: 0\n",
      "Number of Null values in column popularity: 10\n",
      "Number of Null values in column depth: 0\n",
      "Number of Null values in column table: 0\n",
      "Number of Null values in column price: 4\n",
      "Number of Null values in column x: 0\n",
      "Number of Null values in column y: 0\n",
      "Number of Null values in column z: 0\n"
     ]
    }
   ],
   "source": [
    "print(\"Number of Null values in column id:\",df.id.isnull().sum())\n",
    "print(\"Number of Null values in column carat:\",df.carat.isnull().sum())\n",
    "print(\"Number of Null values in column cut:\",df.cut.isnull().sum())\n",
    "print(\"Number of Null values in column color:\",df.color.isnull().sum())\n",
    "print(\"Number of Null values in column clarity:\",df.clarity.isnull().sum())\n",
    "print(\"Number of Null values in column popularity:\",df.popularity.isnull().sum())\n",
    "print(\"Number of Null values in column depth:\",df.depth.isnull().sum())\n",
    "print(\"Number of Null values in column table:\",df.table.isnull().sum())\n",
    "print(\"Number of Null values in column price:\",df.price.isnull().sum())\n",
    "print(\"Number of Null values in column x:\",df.x.isnull().sum())\n",
    "print(\"Number of Null values in column y:\",df.y.isnull().sum())\n",
    "print(\"Number of Null values in column z:\",df.z.isnull().sum())"
   ]
  },
  {
   "cell_type": "markdown",
   "metadata": {},
   "source": [
    "# 5.2 Find number of zeros in each column"
   ]
  },
  {
   "cell_type": "code",
   "execution_count": 15,
   "metadata": {},
   "outputs": [
    {
     "name": "stdout",
     "output_type": "stream",
     "text": [
      "Number of zeros in column id: 0\n",
      "Number of zeros in column carat: 0\n",
      "Number of zeros in column cut: 0\n",
      "Number of zeros in column color: 0\n",
      "Number of zeros in column clarity: 0\n",
      "Number of zeros in column popularity: 0\n",
      "Number of zeros in column depth: 0\n",
      "Number of zeros in column table: 0\n",
      "Number of zeros in column price: 0\n",
      "Number of zeros in column x: 8\n",
      "Number of zeros in column y: 7\n",
      "Number of zeros in column z: 0\n"
     ]
    }
   ],
   "source": [
    "print(\"Number of zeros in column id:\",(df.id==0).sum() )\n",
    "print(\"Number of zeros in column carat:\",(df.carat==0).sum())\n",
    "print(\"Number of zeros in column cut:\",(df.cut==0).sum())\n",
    "print(\"Number of zeros in column color:\",(df.color==0).sum())\n",
    "print(\"Number of zeros in column clarity:\",(df.clarity==0).sum())\n",
    "print(\"Number of zeros in column popularity:\",(df.popularity==0).sum())\n",
    "print(\"Number of zeros in column depth:\",(df.depth==0).sum())\n",
    "print(\"Number of zeros in column table:\",(df.table==0).sum())\n",
    "print(\"Number of zeros in column price:\",(df.price==0).sum())\n",
    "print(\"Number of zeros in column x:\",(df.x==0).sum())\n",
    "print(\"Number of zeros in column y:\",(df.y==0).sum())\n",
    "print(\"Number of zeros in column z:\",(df.z==0).sum())"
   ]
  },
  {
   "cell_type": "markdown",
   "metadata": {},
   "source": [
    "# 5.3 Provide the obvious errors"
   ]
  },
  {
   "cell_type": "code",
   "execution_count": null,
   "metadata": {},
   "outputs": [],
   "source": []
  },
  {
   "cell_type": "markdown",
   "metadata": {},
   "source": [
    "# 5.4 Identify columns which should not be alpha-numeric\n"
   ]
  },
  {
   "cell_type": "code",
   "execution_count": 16,
   "metadata": {},
   "outputs": [],
   "source": [
    "# Column z shouldn't be alpha-numeric since it can used in further calculations."
   ]
  },
  {
   "cell_type": "code",
   "execution_count": 17,
   "metadata": {},
   "outputs": [],
   "source": [
    "df.z=pd.to_numeric(df.z,errors='coerce')\n"
   ]
  },
  {
   "cell_type": "markdown",
   "metadata": {},
   "source": [
    "# 6. For each Numeric column :-\n",
    "## Columns are\n",
    " 1] Carat  \n",
    " 2] depth  \n",
    " 3] table  \n",
    " 4] price  \n",
    " 5] x   \n",
    " 6] y  \n",
    " 7] z "
   ]
  },
  {
   "cell_type": "markdown",
   "metadata": {},
   "source": [
    "# 6.1 Replace zero values with suitable statistical value of the column.Give Reason why."
   ]
  },
  {
   "cell_type": "markdown",
   "metadata": {},
   "source": [
    "We will consider the middle value of the the dataset i.e the median of the the columns to maintain the symmetry of the distribution of data. We could have consider mean value, but median value being more robust than mean we'll replace zeros with median."
   ]
  },
  {
   "cell_type": "markdown",
   "metadata": {},
   "source": []
  },
  {
   "cell_type": "code",
   "execution_count": 18,
   "metadata": {},
   "outputs": [],
   "source": [
    "df.x.replace(to_replace=0,value=df.x.median,inplace=True)\n",
    "df.x=pd.to_numeric(df.x,errors='coerce')\n",
    "df.y.replace(0,df.y.median,inplace=True)\n",
    "df.y=pd.to_numeric(df.y,errors='coerce')"
   ]
  },
  {
   "cell_type": "code",
   "execution_count": null,
   "metadata": {},
   "outputs": [],
   "source": []
  },
  {
   "cell_type": "markdown",
   "metadata": {},
   "source": [
    "# 6.2 Replace null values with lower of mean and median value of the column"
   ]
  },
  {
   "cell_type": "code",
   "execution_count": 19,
   "metadata": {},
   "outputs": [
    {
     "name": "stdout",
     "output_type": "stream",
     "text": [
      "Mean of carat: 0.7979465312024917\n",
      "Median of carat: 0.7\n"
     ]
    }
   ],
   "source": [
    "print(\"Mean of carat:\",df.carat.mean())\n",
    "print(\"Median of carat:\",df.carat.median())"
   ]
  },
  {
   "cell_type": "code",
   "execution_count": 20,
   "metadata": {},
   "outputs": [],
   "source": [
    "#Since value Median is lower tha mean we will replace the null values of column carat with its median\n",
    "\n",
    "df['carat'].fillna(df['carat'].median(),inplace=True)\n"
   ]
  },
  {
   "cell_type": "code",
   "execution_count": 21,
   "metadata": {},
   "outputs": [
    {
     "data": {
      "text/plain": [
       "0"
      ]
     },
     "execution_count": 21,
     "metadata": {},
     "output_type": "execute_result"
    }
   ],
   "source": [
    "df.carat.isna().sum()"
   ]
  },
  {
   "cell_type": "code",
   "execution_count": 22,
   "metadata": {},
   "outputs": [
    {
     "name": "stdout",
     "output_type": "stream",
     "text": [
      "Mean of carat: 3932.8338215663007\n",
      "Median of carat: 2401.0\n"
     ]
    }
   ],
   "source": [
    "print(\"Mean of carat:\",df.price.mean())\n",
    "print(\"Median of carat:\",df.price.median())"
   ]
  },
  {
   "cell_type": "code",
   "execution_count": 23,
   "metadata": {},
   "outputs": [],
   "source": [
    "#Since value Median is lower tha mean we will replace the null values of column price with its median\n",
    "df.price.fillna(df.price.median(),inplace=True)\n",
    "df.price=pd.to_numeric(df.price,errors=\"ignore\")"
   ]
  },
  {
   "cell_type": "code",
   "execution_count": 24,
   "metadata": {},
   "outputs": [
    {
     "data": {
      "text/plain": [
       "0"
      ]
     },
     "execution_count": 24,
     "metadata": {},
     "output_type": "execute_result"
    }
   ],
   "source": [
    "df.price.isna().sum()\n"
   ]
  },
  {
   "cell_type": "code",
   "execution_count": 25,
   "metadata": {},
   "outputs": [
    {
     "name": "stdout",
     "output_type": "stream",
     "text": [
      "Mean of z  3.5387319008509612\n",
      "Median of z 3.53\n"
     ]
    }
   ],
   "source": [
    "\n",
    "print(\"Mean of z \", df.z.mean())\n",
    "print(\"Median of z\",df.z.median())\n",
    "df.z.fillna(df.z.median(),inplace=True)"
   ]
  },
  {
   "cell_type": "code",
   "execution_count": 26,
   "metadata": {},
   "outputs": [
    {
     "data": {
      "text/plain": [
       "0"
      ]
     },
     "execution_count": 26,
     "metadata": {},
     "output_type": "execute_result"
    }
   ],
   "source": [
    "df.z.isna().sum()"
   ]
  },
  {
   "cell_type": "markdown",
   "metadata": {},
   "source": [
    "# 6.3 Provide quartile summary along with the count, mean, and sum "
   ]
  },
  {
   "cell_type": "code",
   "execution_count": null,
   "metadata": {},
   "outputs": [],
   "source": []
  },
  {
   "cell_type": "code",
   "execution_count": 27,
   "metadata": {},
   "outputs": [],
   "source": [
    "df_summary=df.drop(columns='id')"
   ]
  },
  {
   "cell_type": "code",
   "execution_count": 28,
   "metadata": {},
   "outputs": [
    {
     "data": {
      "text/html": [
       "<div>\n",
       "<style scoped>\n",
       "    .dataframe tbody tr th:only-of-type {\n",
       "        vertical-align: middle;\n",
       "    }\n",
       "\n",
       "    .dataframe tbody tr th {\n",
       "        vertical-align: top;\n",
       "    }\n",
       "\n",
       "    .dataframe thead th {\n",
       "        text-align: right;\n",
       "    }\n",
       "</style>\n",
       "<table border=\"1\" class=\"dataframe\">\n",
       "  <thead>\n",
       "    <tr style=\"text-align: right;\">\n",
       "      <th></th>\n",
       "      <th>carat</th>\n",
       "      <th>depth</th>\n",
       "      <th>table</th>\n",
       "      <th>price</th>\n",
       "      <th>x</th>\n",
       "      <th>y</th>\n",
       "      <th>z</th>\n",
       "    </tr>\n",
       "  </thead>\n",
       "  <tbody>\n",
       "    <tr>\n",
       "      <th>count</th>\n",
       "      <td>53940.000000</td>\n",
       "      <td>53940.000000</td>\n",
       "      <td>53940.000000</td>\n",
       "      <td>53940.000000</td>\n",
       "      <td>53932.000000</td>\n",
       "      <td>53933.000000</td>\n",
       "      <td>53940.000000</td>\n",
       "    </tr>\n",
       "    <tr>\n",
       "      <th>mean</th>\n",
       "      <td>0.797943</td>\n",
       "      <td>61.749405</td>\n",
       "      <td>57.457184</td>\n",
       "      <td>3932.720226</td>\n",
       "      <td>5.732007</td>\n",
       "      <td>5.735270</td>\n",
       "      <td>3.538732</td>\n",
       "    </tr>\n",
       "    <tr>\n",
       "      <th>std</th>\n",
       "      <td>0.474010</td>\n",
       "      <td>1.432621</td>\n",
       "      <td>2.234491</td>\n",
       "      <td>3989.317436</td>\n",
       "      <td>1.119670</td>\n",
       "      <td>1.140339</td>\n",
       "      <td>0.705699</td>\n",
       "    </tr>\n",
       "    <tr>\n",
       "      <th>min</th>\n",
       "      <td>0.200000</td>\n",
       "      <td>43.000000</td>\n",
       "      <td>43.000000</td>\n",
       "      <td>326.000000</td>\n",
       "      <td>3.730000</td>\n",
       "      <td>3.680000</td>\n",
       "      <td>0.000000</td>\n",
       "    </tr>\n",
       "    <tr>\n",
       "      <th>25%</th>\n",
       "      <td>0.400000</td>\n",
       "      <td>61.000000</td>\n",
       "      <td>56.000000</td>\n",
       "      <td>950.000000</td>\n",
       "      <td>4.710000</td>\n",
       "      <td>4.720000</td>\n",
       "      <td>2.910000</td>\n",
       "    </tr>\n",
       "    <tr>\n",
       "      <th>50%</th>\n",
       "      <td>0.700000</td>\n",
       "      <td>61.800000</td>\n",
       "      <td>57.000000</td>\n",
       "      <td>2401.000000</td>\n",
       "      <td>5.700000</td>\n",
       "      <td>5.710000</td>\n",
       "      <td>3.530000</td>\n",
       "    </tr>\n",
       "    <tr>\n",
       "      <th>75%</th>\n",
       "      <td>1.040000</td>\n",
       "      <td>62.500000</td>\n",
       "      <td>59.000000</td>\n",
       "      <td>5324.000000</td>\n",
       "      <td>6.540000</td>\n",
       "      <td>6.540000</td>\n",
       "      <td>4.040000</td>\n",
       "    </tr>\n",
       "    <tr>\n",
       "      <th>max</th>\n",
       "      <td>5.010000</td>\n",
       "      <td>79.000000</td>\n",
       "      <td>95.000000</td>\n",
       "      <td>18823.000000</td>\n",
       "      <td>10.740000</td>\n",
       "      <td>58.900000</td>\n",
       "      <td>31.800000</td>\n",
       "    </tr>\n",
       "  </tbody>\n",
       "</table>\n",
       "</div>"
      ],
      "text/plain": [
       "              carat         depth         table         price             x  \\\n",
       "count  53940.000000  53940.000000  53940.000000  53940.000000  53932.000000   \n",
       "mean       0.797943     61.749405     57.457184   3932.720226      5.732007   \n",
       "std        0.474010      1.432621      2.234491   3989.317436      1.119670   \n",
       "min        0.200000     43.000000     43.000000    326.000000      3.730000   \n",
       "25%        0.400000     61.000000     56.000000    950.000000      4.710000   \n",
       "50%        0.700000     61.800000     57.000000   2401.000000      5.700000   \n",
       "75%        1.040000     62.500000     59.000000   5324.000000      6.540000   \n",
       "max        5.010000     79.000000     95.000000  18823.000000     10.740000   \n",
       "\n",
       "                  y             z  \n",
       "count  53933.000000  53940.000000  \n",
       "mean       5.735270      3.538732  \n",
       "std        1.140339      0.705699  \n",
       "min        3.680000      0.000000  \n",
       "25%        4.720000      2.910000  \n",
       "50%        5.710000      3.530000  \n",
       "75%        6.540000      4.040000  \n",
       "max       58.900000     31.800000  "
      ]
     },
     "execution_count": 28,
     "metadata": {},
     "output_type": "execute_result"
    }
   ],
   "source": [
    "df_summary.describe()"
   ]
  },
  {
   "cell_type": "markdown",
   "metadata": {},
   "source": [
    "# 6.4 Provide the range, variance and standard deviation"
   ]
  },
  {
   "cell_type": "code",
   "execution_count": 29,
   "metadata": {},
   "outputs": [
    {
     "name": "stdout",
     "output_type": "stream",
     "text": [
      "Range of Carat is : 4.81\n",
      "Range of depth is : 36.0\n",
      "Range of table is : 52.0\n",
      "Range of x is : 7.01\n",
      "Range of y is : 55.22\n",
      "Range of z is : 31.8\n"
     ]
    }
   ],
   "source": [
    "#Range of a column is the difference between max and min value of column\n",
    "print(\"Range of Carat is :\",df.carat.max()-df.carat.min())\n",
    "print(\"Range of depth is :\",df.depth.max()-df.depth.min())\n",
    "print(\"Range of table is :\",df.table.max()-df.table.min())\n",
    "print(\"Range of x is :\",df.x.max()-df.x.min())\n",
    "print(\"Range of y is :\",df.y.max()-df.y.min())\n",
    "print(\"Range of z is :\",df.z.max()-df.z.min())"
   ]
  },
  {
   "cell_type": "code",
   "execution_count": 30,
   "metadata": {},
   "outputs": [
    {
     "name": "stdout",
     "output_type": "stream",
     "text": [
      "variance of carat : 0.224685506667356\n",
      "variance of depth : 2.0524038431766978\n",
      "variance of table : 4.9929480753375515\n",
      "variance of x : 1.2536607866550282\n",
      "variance of y : 1.3003721535676873\n",
      "variance of z : 0.49801067387721093\n"
     ]
    }
   ],
   "source": [
    "print(\"variance of carat :\",df.carat.var())\n",
    "print(\"variance of depth :\",df.depth.var())\n",
    "print(\"variance of table :\",df.table.var())\n",
    "print(\"variance of x :\",df.x.var())\n",
    "print(\"variance of y :\",df.y.var())\n",
    "print(\"variance of z :\",df.z.var())"
   ]
  },
  {
   "cell_type": "code",
   "execution_count": 31,
   "metadata": {},
   "outputs": [
    {
     "name": "stdout",
     "output_type": "stream",
     "text": [
      "Standard Deviation of carat : 0.47401002802404507\n",
      "Standard Deviation of depth : 1.432621318833661\n",
      "Standard Deviation of table : 2.2344905628213225\n",
      "Standard Deviation of x : 1.119669945410266\n",
      "Standard Deviation of y : 1.1403386135563802\n",
      "Standard Deviation of z : 0.7056987132461069\n"
     ]
    }
   ],
   "source": [
    "print(\"Standard Deviation of carat :\",df.carat.std())\n",
    "print(\"Standard Deviation of depth :\",df.depth.std())\n",
    "print(\"Standard Deviation of table :\",df.table.std())\n",
    "print(\"Standard Deviation of x :\",df.x.std())\n",
    "print(\"Standard Deviation of y :\",df.y.std())\n",
    "print(\"Standard Deviation of z :\",df.z.std())"
   ]
  },
  {
   "cell_type": "markdown",
   "metadata": {},
   "source": [
    "# 6.5 Provide the count of outliers and their value and provide a mechanism to fix it"
   ]
  },
  {
   "cell_type": "code",
   "execution_count": 32,
   "metadata": {},
   "outputs": [
    {
     "name": "stdout",
     "output_type": "stream",
     "text": [
      "Outlier in carat:\n",
      " 12246    2.06\n",
      "13002    2.14\n",
      "13118    2.15\n",
      "13757    2.22\n",
      "13991    2.01\n",
      "         ... \n",
      "27741    2.15\n",
      "27742    2.04\n",
      "27744    2.29\n",
      "27746    2.07\n",
      "27749    2.29\n",
      "Name: carat, Length: 1889, dtype: float64\n",
      "Outlier in depth:\n",
      " 2        56.9\n",
      "8        65.1\n",
      "24       58.1\n",
      "35       58.2\n",
      "42       65.2\n",
      "         ... \n",
      "53882    65.4\n",
      "53886    58.0\n",
      "53890    57.9\n",
      "53895    57.8\n",
      "53927    58.1\n",
      "Name: depth, Length: 2545, dtype: float64\n",
      "Outlier in table:\n",
      " 2        65.0\n",
      "91       69.0\n",
      "145      64.0\n",
      "219      64.0\n",
      "227      67.0\n",
      "         ... \n",
      "53695    65.0\n",
      "53697    65.0\n",
      "53756    64.0\n",
      "53757    64.0\n",
      "53785    65.0\n",
      "Name: table, Length: 605, dtype: float64\n",
      "Outlier in price:\n",
      " 23820    11886.0\n",
      "23821    11886.0\n",
      "23822    11888.0\n",
      "23823    11888.0\n",
      "23824    11888.0\n",
      "          ...   \n",
      "27745    18803.0\n",
      "27746    18804.0\n",
      "27747    18806.0\n",
      "27748    18818.0\n",
      "27749    18823.0\n",
      "Name: price, Length: 3540, dtype: float64\n",
      "Outlier in x:\n",
      " 0        3.95\n",
      "1        3.89\n",
      "2        4.05\n",
      "3        4.20\n",
      "4        4.34\n",
      "         ... \n",
      "53935    5.75\n",
      "53936    5.69\n",
      "53937    5.66\n",
      "53938    6.15\n",
      "53939    5.83\n",
      "Name: x, Length: 53940, dtype: float64\n",
      "Outlier in y:\n",
      " 0        3.98\n",
      "1        3.84\n",
      "2        4.07\n",
      "3        4.23\n",
      "4        4.35\n",
      "         ... \n",
      "53935    5.76\n",
      "53936    5.75\n",
      "53937    5.68\n",
      "53938    6.12\n",
      "53939    5.87\n",
      "Name: y, Length: 53940, dtype: float64\n",
      "Outlier in z:\n",
      " 2207      0.00\n",
      "2314      0.00\n",
      "4791      0.00\n",
      "5471      0.00\n",
      "10167     0.00\n",
      "11182     0.00\n",
      "11963     0.00\n",
      "13601     0.00\n",
      "14635     1.07\n",
      "15951     0.00\n",
      "16283     5.77\n",
      "17196     5.76\n",
      "19346     5.97\n",
      "21758     5.98\n",
      "22540     5.91\n",
      "23539     5.79\n",
      "23644     6.38\n",
      "24067     8.06\n",
      "24131     5.85\n",
      "24297     5.92\n",
      "24328     6.03\n",
      "24394     0.00\n",
      "24520     0.00\n",
      "25998     6.17\n",
      "25999     6.24\n",
      "26100     5.75\n",
      "26123     0.00\n",
      "26194     6.16\n",
      "26243     0.00\n",
      "26431     6.27\n",
      "26444     6.31\n",
      "26534     6.13\n",
      "26744     5.86\n",
      "27112     0.00\n",
      "27130     6.43\n",
      "27415     6.98\n",
      "27429     0.00\n",
      "27503     0.00\n",
      "27515     5.90\n",
      "27516     5.90\n",
      "27517     5.77\n",
      "27518     5.77\n",
      "27630     6.72\n",
      "27679     6.03\n",
      "27739     0.00\n",
      "48410    31.80\n",
      "49556     0.00\n",
      "49557     0.00\n",
      "51506     0.00\n",
      "Name: z, dtype: float64\n"
     ]
    }
   ],
   "source": [
    "def outlier_val(df):\n",
    "    sorted(df)\n",
    "    q1,q3=np.percentile(df,[25,75])\n",
    "    iqr=q3-q1\n",
    "    lb=q1-(1.5*iqr)\n",
    "    ub=q3+(1.5*iqr)\n",
    "    return(df[~df.between(lb,ub)])\n",
    "print(\"Outlier in carat:\\n\",outlier_val(df.carat))\n",
    "print(\"Outlier in depth:\\n\",outlier_val(df.depth))\n",
    "print(\"Outlier in table:\\n\",outlier_val(df.table))\n",
    "print(\"Outlier in price:\\n\",outlier_val(df.price))\n",
    "print(\"Outlier in x:\\n\",outlier_val(df.x))\n",
    "print(\"Outlier in y:\\n\",outlier_val(df.y))\n",
    "print(\"Outlier in z:\\n\",outlier_val(df.z))\n"
   ]
  },
  {
   "cell_type": "code",
   "execution_count": 33,
   "metadata": {},
   "outputs": [
    {
     "name": "stdout",
     "output_type": "stream",
     "text": [
      "0        0.23\n",
      "1        0.21\n",
      "2        0.23\n",
      "3        0.29\n",
      "4        0.31\n",
      "         ... \n",
      "53935    0.72\n",
      "53936    0.72\n",
      "53937    0.70\n",
      "53938    0.86\n",
      "53939    0.75\n",
      "Name: carat, Length: 53940, dtype: float64\n"
     ]
    }
   ],
   "source": [
    "def outlier(df):\n",
    "    sorted(df)\n",
    "    #q1,q3=np.percentile(df,[25,75])\n",
    "    q1=np.percentile(df,25)\n",
    "    q3=np.percentile(df,75)\n",
    "    iqr=q3-q1\n",
    "    lb=q1-(1.5*iqr)\n",
    "    ub=q3+(1.5*iqr)\n",
    "    out1=df[df<lb].count()\n",
    "    out2=df[df>ub].count()\n",
    "    out=out1+out2\n",
    "    return(out)\n",
    "print(df.carat)"
   ]
  },
  {
   "cell_type": "code",
   "execution_count": 34,
   "metadata": {},
   "outputs": [
    {
     "name": "stdout",
     "output_type": "stream",
     "text": [
      "Number of outliers in carat: 1889\n",
      "Number of outliers in depth: 2545\n",
      "Number of outliers in table: 605\n",
      "Number of outliers in price: 3540\n",
      "Number of outliers in x: 0\n",
      "Number of outliers in y: 0\n",
      "Number of outliers in z: 49\n"
     ]
    }
   ],
   "source": [
    "print(\"Number of outliers in carat:\",outlier(df.carat))\n",
    "print(\"Number of outliers in depth:\",outlier(df.depth))\n",
    "print(\"Number of outliers in table:\",outlier(df.table))\n",
    "print(\"Number of outliers in price:\",outlier(df.price))\n",
    "print(\"Number of outliers in x:\",outlier(df.x))\n",
    "print(\"Number of outliers in y:\",outlier(df.y))\n",
    "print(\"Number of outliers in z:\",outlier(df.z))"
   ]
  },
  {
   "cell_type": "code",
   "execution_count": 35,
   "metadata": {},
   "outputs": [],
   "source": [
    "def outlier_med(df):\n",
    "    sorted(df)\n",
    "    q1,q3=np.percentile(df,[25,75])\n",
    "    iqr=q3-q1\n",
    "    lb=q1-(1.5*iqr)\n",
    "    ub=q3+(1.5*iqr)\n",
    "    df[df<lb]=np.nan\n",
    "    df[df>ub]=np.nan\n",
    "    df.fillna(df.median(),inplace=True)\n",
    "    out1=df[df<lb].count()\n",
    "    out2=df[df>ub].count()\n",
    "    out=out1+out2\n",
    "    return(out)"
   ]
  },
  {
   "cell_type": "code",
   "execution_count": 36,
   "metadata": {},
   "outputs": [
    {
     "name": "stdout",
     "output_type": "stream",
     "text": [
      "0\n"
     ]
    },
    {
     "data": {
      "text/html": [
       "<div>\n",
       "<style scoped>\n",
       "    .dataframe tbody tr th:only-of-type {\n",
       "        vertical-align: middle;\n",
       "    }\n",
       "\n",
       "    .dataframe tbody tr th {\n",
       "        vertical-align: top;\n",
       "    }\n",
       "\n",
       "    .dataframe thead th {\n",
       "        text-align: right;\n",
       "    }\n",
       "</style>\n",
       "<table border=\"1\" class=\"dataframe\">\n",
       "  <thead>\n",
       "    <tr style=\"text-align: right;\">\n",
       "      <th></th>\n",
       "      <th>id</th>\n",
       "      <th>carat</th>\n",
       "      <th>cut</th>\n",
       "      <th>color</th>\n",
       "      <th>clarity</th>\n",
       "      <th>popularity</th>\n",
       "      <th>depth</th>\n",
       "      <th>table</th>\n",
       "      <th>price</th>\n",
       "      <th>x</th>\n",
       "      <th>y</th>\n",
       "      <th>z</th>\n",
       "    </tr>\n",
       "  </thead>\n",
       "  <tbody>\n",
       "    <tr>\n",
       "      <th>0</th>\n",
       "      <td>1</td>\n",
       "      <td>0.23</td>\n",
       "      <td>Ideal</td>\n",
       "      <td>E</td>\n",
       "      <td>SI2</td>\n",
       "      <td>Good</td>\n",
       "      <td>61.5</td>\n",
       "      <td>55.0</td>\n",
       "      <td>326.0</td>\n",
       "      <td>3.95</td>\n",
       "      <td>3.98</td>\n",
       "      <td>2.43</td>\n",
       "    </tr>\n",
       "    <tr>\n",
       "      <th>1</th>\n",
       "      <td>2</td>\n",
       "      <td>0.21</td>\n",
       "      <td>Premium</td>\n",
       "      <td>E</td>\n",
       "      <td>SI1</td>\n",
       "      <td>Good</td>\n",
       "      <td>59.8</td>\n",
       "      <td>61.0</td>\n",
       "      <td>326.0</td>\n",
       "      <td>3.89</td>\n",
       "      <td>3.84</td>\n",
       "      <td>2.31</td>\n",
       "    </tr>\n",
       "    <tr>\n",
       "      <th>2</th>\n",
       "      <td>3</td>\n",
       "      <td>0.23</td>\n",
       "      <td>Good</td>\n",
       "      <td>E</td>\n",
       "      <td>VS1</td>\n",
       "      <td>Fair</td>\n",
       "      <td>56.9</td>\n",
       "      <td>65.0</td>\n",
       "      <td>327.0</td>\n",
       "      <td>4.05</td>\n",
       "      <td>4.07</td>\n",
       "      <td>2.31</td>\n",
       "    </tr>\n",
       "    <tr>\n",
       "      <th>3</th>\n",
       "      <td>4</td>\n",
       "      <td>0.29</td>\n",
       "      <td>Premium</td>\n",
       "      <td>I</td>\n",
       "      <td>VS2</td>\n",
       "      <td>Poor</td>\n",
       "      <td>62.4</td>\n",
       "      <td>58.0</td>\n",
       "      <td>334.0</td>\n",
       "      <td>4.20</td>\n",
       "      <td>4.23</td>\n",
       "      <td>2.63</td>\n",
       "    </tr>\n",
       "    <tr>\n",
       "      <th>4</th>\n",
       "      <td>5</td>\n",
       "      <td>0.31</td>\n",
       "      <td>Good</td>\n",
       "      <td>J</td>\n",
       "      <td>SI2</td>\n",
       "      <td>Good</td>\n",
       "      <td>63.3</td>\n",
       "      <td>58.0</td>\n",
       "      <td>335.0</td>\n",
       "      <td>4.34</td>\n",
       "      <td>4.35</td>\n",
       "      <td>2.75</td>\n",
       "    </tr>\n",
       "    <tr>\n",
       "      <th>...</th>\n",
       "      <td>...</td>\n",
       "      <td>...</td>\n",
       "      <td>...</td>\n",
       "      <td>...</td>\n",
       "      <td>...</td>\n",
       "      <td>...</td>\n",
       "      <td>...</td>\n",
       "      <td>...</td>\n",
       "      <td>...</td>\n",
       "      <td>...</td>\n",
       "      <td>...</td>\n",
       "      <td>...</td>\n",
       "    </tr>\n",
       "    <tr>\n",
       "      <th>53935</th>\n",
       "      <td>53936</td>\n",
       "      <td>0.72</td>\n",
       "      <td>Ideal</td>\n",
       "      <td>D</td>\n",
       "      <td>SI1</td>\n",
       "      <td>Good</td>\n",
       "      <td>60.8</td>\n",
       "      <td>57.0</td>\n",
       "      <td>2757.0</td>\n",
       "      <td>5.75</td>\n",
       "      <td>5.76</td>\n",
       "      <td>3.50</td>\n",
       "    </tr>\n",
       "    <tr>\n",
       "      <th>53936</th>\n",
       "      <td>53937</td>\n",
       "      <td>0.72</td>\n",
       "      <td>Good</td>\n",
       "      <td>D</td>\n",
       "      <td>SI1</td>\n",
       "      <td>Good</td>\n",
       "      <td>63.1</td>\n",
       "      <td>55.0</td>\n",
       "      <td>2757.0</td>\n",
       "      <td>5.69</td>\n",
       "      <td>5.75</td>\n",
       "      <td>3.61</td>\n",
       "    </tr>\n",
       "    <tr>\n",
       "      <th>53937</th>\n",
       "      <td>53938</td>\n",
       "      <td>0.70</td>\n",
       "      <td>Very Good</td>\n",
       "      <td>D</td>\n",
       "      <td>SI1</td>\n",
       "      <td>Good</td>\n",
       "      <td>62.8</td>\n",
       "      <td>60.0</td>\n",
       "      <td>2757.0</td>\n",
       "      <td>5.66</td>\n",
       "      <td>5.68</td>\n",
       "      <td>3.56</td>\n",
       "    </tr>\n",
       "    <tr>\n",
       "      <th>53938</th>\n",
       "      <td>53939</td>\n",
       "      <td>0.86</td>\n",
       "      <td>Premium</td>\n",
       "      <td>H</td>\n",
       "      <td>SI2</td>\n",
       "      <td>Good</td>\n",
       "      <td>61.0</td>\n",
       "      <td>58.0</td>\n",
       "      <td>2757.0</td>\n",
       "      <td>6.15</td>\n",
       "      <td>6.12</td>\n",
       "      <td>3.74</td>\n",
       "    </tr>\n",
       "    <tr>\n",
       "      <th>53939</th>\n",
       "      <td>53940</td>\n",
       "      <td>0.75</td>\n",
       "      <td>Ideal</td>\n",
       "      <td>D</td>\n",
       "      <td>SI2</td>\n",
       "      <td>Good</td>\n",
       "      <td>62.2</td>\n",
       "      <td>55.0</td>\n",
       "      <td>2757.0</td>\n",
       "      <td>5.83</td>\n",
       "      <td>5.87</td>\n",
       "      <td>3.53</td>\n",
       "    </tr>\n",
       "  </tbody>\n",
       "</table>\n",
       "<p>53940 rows × 12 columns</p>\n",
       "</div>"
      ],
      "text/plain": [
       "          id  carat        cut color clarity popularity  depth  table   price  \\\n",
       "0          1   0.23      Ideal     E     SI2       Good   61.5   55.0   326.0   \n",
       "1          2   0.21    Premium     E     SI1       Good   59.8   61.0   326.0   \n",
       "2          3   0.23       Good     E     VS1       Fair   56.9   65.0   327.0   \n",
       "3          4   0.29    Premium     I     VS2       Poor   62.4   58.0   334.0   \n",
       "4          5   0.31       Good     J     SI2       Good   63.3   58.0   335.0   \n",
       "...      ...    ...        ...   ...     ...        ...    ...    ...     ...   \n",
       "53935  53936   0.72      Ideal     D     SI1       Good   60.8   57.0  2757.0   \n",
       "53936  53937   0.72       Good     D     SI1       Good   63.1   55.0  2757.0   \n",
       "53937  53938   0.70  Very Good     D     SI1       Good   62.8   60.0  2757.0   \n",
       "53938  53939   0.86    Premium     H     SI2       Good   61.0   58.0  2757.0   \n",
       "53939  53940   0.75      Ideal     D     SI2       Good   62.2   55.0  2757.0   \n",
       "\n",
       "          x     y     z  \n",
       "0      3.95  3.98  2.43  \n",
       "1      3.89  3.84  2.31  \n",
       "2      4.05  4.07  2.31  \n",
       "3      4.20  4.23  2.63  \n",
       "4      4.34  4.35  2.75  \n",
       "...     ...   ...   ...  \n",
       "53935  5.75  5.76  3.50  \n",
       "53936  5.69  5.75  3.61  \n",
       "53937  5.66  5.68  3.56  \n",
       "53938  6.15  6.12  3.74  \n",
       "53939  5.83  5.87  3.53  \n",
       "\n",
       "[53940 rows x 12 columns]"
      ]
     },
     "execution_count": 36,
     "metadata": {},
     "output_type": "execute_result"
    }
   ],
   "source": [
    "print(outlier_med(df['carat']))\n",
    "df"
   ]
  },
  {
   "cell_type": "code",
   "execution_count": 37,
   "metadata": {},
   "outputs": [
    {
     "data": {
      "text/plain": [
       "0"
      ]
     },
     "execution_count": 37,
     "metadata": {},
     "output_type": "execute_result"
    }
   ],
   "source": [
    "outlier_med(df['depth'])\n",
    "\n"
   ]
  },
  {
   "cell_type": "code",
   "execution_count": 38,
   "metadata": {},
   "outputs": [
    {
     "data": {
      "text/plain": [
       "0"
      ]
     },
     "execution_count": 38,
     "metadata": {},
     "output_type": "execute_result"
    }
   ],
   "source": [
    "outlier_med(df['price'])\n"
   ]
  },
  {
   "cell_type": "code",
   "execution_count": 39,
   "metadata": {},
   "outputs": [
    {
     "data": {
      "text/plain": [
       "0"
      ]
     },
     "execution_count": 39,
     "metadata": {},
     "output_type": "execute_result"
    }
   ],
   "source": [
    "\n",
    "outlier_med(df['table'])"
   ]
  },
  {
   "cell_type": "code",
   "execution_count": 40,
   "metadata": {},
   "outputs": [
    {
     "data": {
      "text/plain": [
       "0"
      ]
     },
     "execution_count": 40,
     "metadata": {},
     "output_type": "execute_result"
    }
   ],
   "source": [
    "\n",
    "\n",
    "outlier_med(df['x'])"
   ]
  },
  {
   "cell_type": "code",
   "execution_count": 41,
   "metadata": {},
   "outputs": [
    {
     "data": {
      "text/plain": [
       "0"
      ]
     },
     "execution_count": 41,
     "metadata": {},
     "output_type": "execute_result"
    }
   ],
   "source": [
    "\n",
    "outlier_med(df['y'])"
   ]
  },
  {
   "cell_type": "code",
   "execution_count": 42,
   "metadata": {},
   "outputs": [
    {
     "data": {
      "text/plain": [
       "0"
      ]
     },
     "execution_count": 42,
     "metadata": {},
     "output_type": "execute_result"
    }
   ],
   "source": [
    "\n",
    "\n",
    "outlier_med(df['z'])"
   ]
  },
  {
   "cell_type": "markdown",
   "metadata": {},
   "source": [
    "# 7. For each non-numeric columns\n",
    "-cut  \n",
    "-color  \n",
    "-clarity  \n",
    "-popularity \n"
   ]
  },
  {
   "cell_type": "markdown",
   "metadata": {},
   "source": [
    "## 7.1 Replace Null values with a suitable statistical value of column\n"
   ]
  },
  {
   "cell_type": "code",
   "execution_count": 43,
   "metadata": {},
   "outputs": [],
   "source": [
    "df.color.fillna(df['color']. value_counts(). idxmax(),inplace=True)\n",
    "df.popularity.fillna(df['popularity']. value_counts(). idxmax(),inplace=True)"
   ]
  },
  {
   "cell_type": "code",
   "execution_count": 44,
   "metadata": {},
   "outputs": [
    {
     "data": {
      "text/html": [
       "<div>\n",
       "<style scoped>\n",
       "    .dataframe tbody tr th:only-of-type {\n",
       "        vertical-align: middle;\n",
       "    }\n",
       "\n",
       "    .dataframe tbody tr th {\n",
       "        vertical-align: top;\n",
       "    }\n",
       "\n",
       "    .dataframe thead th {\n",
       "        text-align: right;\n",
       "    }\n",
       "</style>\n",
       "<table border=\"1\" class=\"dataframe\">\n",
       "  <thead>\n",
       "    <tr style=\"text-align: right;\">\n",
       "      <th>col_0</th>\n",
       "      <th>count</th>\n",
       "    </tr>\n",
       "    <tr>\n",
       "      <th>color</th>\n",
       "      <th></th>\n",
       "    </tr>\n",
       "  </thead>\n",
       "  <tbody>\n",
       "    <tr>\n",
       "      <th>D</th>\n",
       "      <td>6775</td>\n",
       "    </tr>\n",
       "    <tr>\n",
       "      <th>E</th>\n",
       "      <td>9797</td>\n",
       "    </tr>\n",
       "    <tr>\n",
       "      <th>F</th>\n",
       "      <td>9542</td>\n",
       "    </tr>\n",
       "    <tr>\n",
       "      <th>G</th>\n",
       "      <td>11295</td>\n",
       "    </tr>\n",
       "    <tr>\n",
       "      <th>H</th>\n",
       "      <td>8303</td>\n",
       "    </tr>\n",
       "    <tr>\n",
       "      <th>I</th>\n",
       "      <td>5421</td>\n",
       "    </tr>\n",
       "    <tr>\n",
       "      <th>J</th>\n",
       "      <td>2807</td>\n",
       "    </tr>\n",
       "  </tbody>\n",
       "</table>\n",
       "</div>"
      ],
      "text/plain": [
       "col_0  count\n",
       "color       \n",
       "D       6775\n",
       "E       9797\n",
       "F       9542\n",
       "G      11295\n",
       "H       8303\n",
       "I       5421\n",
       "J       2807"
      ]
     },
     "execution_count": 44,
     "metadata": {},
     "output_type": "execute_result"
    }
   ],
   "source": [
    "pd.crosstab(df['color'],columns='count',)"
   ]
  },
  {
   "cell_type": "code",
   "execution_count": 45,
   "metadata": {},
   "outputs": [
    {
     "data": {
      "text/html": [
       "<div>\n",
       "<style scoped>\n",
       "    .dataframe tbody tr th:only-of-type {\n",
       "        vertical-align: middle;\n",
       "    }\n",
       "\n",
       "    .dataframe tbody tr th {\n",
       "        vertical-align: top;\n",
       "    }\n",
       "\n",
       "    .dataframe thead th {\n",
       "        text-align: right;\n",
       "    }\n",
       "</style>\n",
       "<table border=\"1\" class=\"dataframe\">\n",
       "  <thead>\n",
       "    <tr style=\"text-align: right;\">\n",
       "      <th>col_0</th>\n",
       "      <th>count</th>\n",
       "    </tr>\n",
       "    <tr>\n",
       "      <th>popularity</th>\n",
       "      <th></th>\n",
       "    </tr>\n",
       "  </thead>\n",
       "  <tbody>\n",
       "    <tr>\n",
       "      <th>Fair</th>\n",
       "      <td>8425</td>\n",
       "    </tr>\n",
       "    <tr>\n",
       "      <th>Good</th>\n",
       "      <td>24271</td>\n",
       "    </tr>\n",
       "    <tr>\n",
       "      <th>NotAvail</th>\n",
       "      <td>13</td>\n",
       "    </tr>\n",
       "    <tr>\n",
       "      <th>Poor</th>\n",
       "      <td>21231</td>\n",
       "    </tr>\n",
       "  </tbody>\n",
       "</table>\n",
       "</div>"
      ],
      "text/plain": [
       "col_0       count\n",
       "popularity       \n",
       "Fair         8425\n",
       "Good        24271\n",
       "NotAvail       13\n",
       "Poor        21231"
      ]
     },
     "execution_count": 45,
     "metadata": {},
     "output_type": "execute_result"
    }
   ],
   "source": [
    "pd.crosstab(df['popularity'],columns='count',)"
   ]
  },
  {
   "cell_type": "markdown",
   "metadata": {},
   "source": [
    "# 8. Provide suitable machanism to convert non-numeric columns to numeric"
   ]
  },
  {
   "cell_type": "code",
   "execution_count": 46,
   "metadata": {},
   "outputs": [
    {
     "data": {
      "text/plain": [
       "array(['Fair', 'Good', 'Ideal', 'Premium', 'Unknown', 'Very Good'],\n",
       "      dtype=object)"
      ]
     },
     "execution_count": 46,
     "metadata": {},
     "output_type": "execute_result"
    }
   ],
   "source": [
    "np.unique(df['cut'])"
   ]
  },
  {
   "cell_type": "code",
   "execution_count": 47,
   "metadata": {},
   "outputs": [],
   "source": [
    "df['cut']=df['cut'].map({'Fair':1,'Ideal':5,'Good':2, 'Premium':4, 'Very Good':3})"
   ]
  },
  {
   "cell_type": "code",
   "execution_count": 48,
   "metadata": {},
   "outputs": [],
   "source": [
    "#Convert the rows Uknown rows to NaN\n",
    "df[df['cut']=='Unknown']=np.nan"
   ]
  },
  {
   "cell_type": "code",
   "execution_count": 49,
   "metadata": {},
   "outputs": [
    {
     "data": {
      "text/plain": [
       "3"
      ]
     },
     "execution_count": 49,
     "metadata": {},
     "output_type": "execute_result"
    }
   ],
   "source": [
    "df['cut'].isna().sum()"
   ]
  },
  {
   "cell_type": "code",
   "execution_count": 50,
   "metadata": {},
   "outputs": [],
   "source": [
    "df.cut.fillna(df['cut']. value_counts(). idxmax(),inplace=True)"
   ]
  },
  {
   "cell_type": "code",
   "execution_count": 51,
   "metadata": {},
   "outputs": [
    {
     "data": {
      "text/plain": [
       "array([1., 2., 3., 4., 5.])"
      ]
     },
     "execution_count": 51,
     "metadata": {},
     "output_type": "execute_result"
    }
   ],
   "source": [
    "np.unique(df['cut'])"
   ]
  },
  {
   "cell_type": "code",
   "execution_count": 52,
   "metadata": {},
   "outputs": [
    {
     "data": {
      "text/plain": [
       "array(['D', 'E', 'F', 'G', 'H', 'I', 'J'], dtype=object)"
      ]
     },
     "execution_count": 52,
     "metadata": {},
     "output_type": "execute_result"
    }
   ],
   "source": [
    "np.unique(df.color)"
   ]
  },
  {
   "cell_type": "code",
   "execution_count": 53,
   "metadata": {},
   "outputs": [],
   "source": [
    "df.color=df.color.map({'D':7,'E':6,'F':5,'G':4,'H':3,'I':2,'J':1})"
   ]
  },
  {
   "cell_type": "code",
   "execution_count": 54,
   "metadata": {},
   "outputs": [
    {
     "data": {
      "text/plain": [
       "array([1, 2, 3, 4, 5, 6, 7], dtype=int64)"
      ]
     },
     "execution_count": 54,
     "metadata": {},
     "output_type": "execute_result"
    }
   ],
   "source": [
    "np.unique(df.color)"
   ]
  },
  {
   "cell_type": "code",
   "execution_count": 55,
   "metadata": {},
   "outputs": [
    {
     "data": {
      "text/plain": [
       "array(['I1', 'IF', 'SI1', 'SI2', 'VS1', 'VS2', 'VVS1', 'VVS2'],\n",
       "      dtype=object)"
      ]
     },
     "execution_count": 55,
     "metadata": {},
     "output_type": "execute_result"
    }
   ],
   "source": [
    "np.unique(df.clarity)"
   ]
  },
  {
   "cell_type": "code",
   "execution_count": 56,
   "metadata": {},
   "outputs": [],
   "source": [
    "df.clarity=df.clarity.map({'IF':8, 'VVS1':7, 'VVS2':6, 'VS1':5 , 'VS2':4 , 'SI1':3, 'SI2':2 , 'I1':1})"
   ]
  },
  {
   "cell_type": "code",
   "execution_count": 57,
   "metadata": {},
   "outputs": [
    {
     "data": {
      "text/plain": [
       "array([1, 2, 3, 4, 5, 6, 7, 8], dtype=int64)"
      ]
     },
     "execution_count": 57,
     "metadata": {},
     "output_type": "execute_result"
    }
   ],
   "source": [
    "np.unique(df.clarity)"
   ]
  },
  {
   "cell_type": "code",
   "execution_count": 58,
   "metadata": {},
   "outputs": [
    {
     "data": {
      "text/plain": [
       "array(['Fair', 'Good', 'NotAvail', 'Poor'], dtype=object)"
      ]
     },
     "execution_count": 58,
     "metadata": {},
     "output_type": "execute_result"
    }
   ],
   "source": [
    "np.unique(df.popularity)"
   ]
  },
  {
   "cell_type": "code",
   "execution_count": 59,
   "metadata": {},
   "outputs": [],
   "source": [
    "df[df.popularity=='NotAvail']=np.nan\n",
    "df['popularity']=df.popularity.fillna(method ='pad')"
   ]
  },
  {
   "cell_type": "code",
   "execution_count": 60,
   "metadata": {},
   "outputs": [],
   "source": [
    "df.popularity=df.popularity.map({'Good':3,'Fair':2,'Poor':1})"
   ]
  },
  {
   "cell_type": "code",
   "execution_count": 61,
   "metadata": {},
   "outputs": [
    {
     "data": {
      "text/plain": [
       "array([1, 2, 3], dtype=int64)"
      ]
     },
     "execution_count": 61,
     "metadata": {},
     "output_type": "execute_result"
    }
   ],
   "source": [
    "np.unique(df.popularity)"
   ]
  },
  {
   "cell_type": "code",
   "execution_count": 62,
   "metadata": {},
   "outputs": [
    {
     "name": "stdout",
     "output_type": "stream",
     "text": [
      "<class 'pandas.core.frame.DataFrame'>\n",
      "RangeIndex: 53940 entries, 0 to 53939\n",
      "Data columns (total 12 columns):\n",
      " #   Column      Non-Null Count  Dtype  \n",
      "---  ------      --------------  -----  \n",
      " 0   id          53927 non-null  float64\n",
      " 1   carat       53927 non-null  float64\n",
      " 2   cut         53927 non-null  float64\n",
      " 3   color       53927 non-null  float64\n",
      " 4   clarity     53927 non-null  float64\n",
      " 5   popularity  53940 non-null  int64  \n",
      " 6   depth       53927 non-null  float64\n",
      " 7   table       53927 non-null  float64\n",
      " 8   price       53927 non-null  float64\n",
      " 9   x           53927 non-null  float64\n",
      " 10  y           53927 non-null  float64\n",
      " 11  z           53927 non-null  float64\n",
      "dtypes: float64(11), int64(1)\n",
      "memory usage: 4.9 MB\n"
     ]
    }
   ],
   "source": [
    "df.info()"
   ]
  },
  {
   "cell_type": "code",
   "execution_count": null,
   "metadata": {},
   "outputs": [],
   "source": []
  },
  {
   "cell_type": "code",
   "execution_count": null,
   "metadata": {},
   "outputs": [],
   "source": []
  },
  {
   "cell_type": "markdown",
   "metadata": {},
   "source": [
    "# 10. Provide Histogram for all columns and provide your interpretations."
   ]
  },
  {
   "cell_type": "code",
   "execution_count": 63,
   "metadata": {},
   "outputs": [
    {
     "data": {
      "text/html": [
       "<div>\n",
       "<style scoped>\n",
       "    .dataframe tbody tr th:only-of-type {\n",
       "        vertical-align: middle;\n",
       "    }\n",
       "\n",
       "    .dataframe tbody tr th {\n",
       "        vertical-align: top;\n",
       "    }\n",
       "\n",
       "    .dataframe thead th {\n",
       "        text-align: right;\n",
       "    }\n",
       "</style>\n",
       "<table border=\"1\" class=\"dataframe\">\n",
       "  <thead>\n",
       "    <tr style=\"text-align: right;\">\n",
       "      <th></th>\n",
       "      <th>id</th>\n",
       "      <th>carat</th>\n",
       "      <th>cut</th>\n",
       "      <th>color</th>\n",
       "      <th>clarity</th>\n",
       "      <th>popularity</th>\n",
       "      <th>depth</th>\n",
       "      <th>table</th>\n",
       "      <th>price</th>\n",
       "      <th>x</th>\n",
       "      <th>y</th>\n",
       "      <th>z</th>\n",
       "    </tr>\n",
       "  </thead>\n",
       "  <tbody>\n",
       "    <tr>\n",
       "      <th>0</th>\n",
       "      <td>1.0</td>\n",
       "      <td>0.23</td>\n",
       "      <td>5.0</td>\n",
       "      <td>6.0</td>\n",
       "      <td>2.0</td>\n",
       "      <td>3</td>\n",
       "      <td>61.5</td>\n",
       "      <td>55.0</td>\n",
       "      <td>326.0</td>\n",
       "      <td>3.95</td>\n",
       "      <td>3.98</td>\n",
       "      <td>2.43</td>\n",
       "    </tr>\n",
       "    <tr>\n",
       "      <th>1</th>\n",
       "      <td>2.0</td>\n",
       "      <td>0.21</td>\n",
       "      <td>4.0</td>\n",
       "      <td>6.0</td>\n",
       "      <td>3.0</td>\n",
       "      <td>3</td>\n",
       "      <td>59.8</td>\n",
       "      <td>61.0</td>\n",
       "      <td>326.0</td>\n",
       "      <td>3.89</td>\n",
       "      <td>3.84</td>\n",
       "      <td>2.31</td>\n",
       "    </tr>\n",
       "    <tr>\n",
       "      <th>2</th>\n",
       "      <td>3.0</td>\n",
       "      <td>0.23</td>\n",
       "      <td>2.0</td>\n",
       "      <td>6.0</td>\n",
       "      <td>5.0</td>\n",
       "      <td>2</td>\n",
       "      <td>61.9</td>\n",
       "      <td>57.0</td>\n",
       "      <td>327.0</td>\n",
       "      <td>4.05</td>\n",
       "      <td>4.07</td>\n",
       "      <td>2.31</td>\n",
       "    </tr>\n",
       "    <tr>\n",
       "      <th>3</th>\n",
       "      <td>4.0</td>\n",
       "      <td>0.29</td>\n",
       "      <td>4.0</td>\n",
       "      <td>2.0</td>\n",
       "      <td>4.0</td>\n",
       "      <td>1</td>\n",
       "      <td>62.4</td>\n",
       "      <td>58.0</td>\n",
       "      <td>334.0</td>\n",
       "      <td>4.20</td>\n",
       "      <td>4.23</td>\n",
       "      <td>2.63</td>\n",
       "    </tr>\n",
       "    <tr>\n",
       "      <th>4</th>\n",
       "      <td>5.0</td>\n",
       "      <td>0.31</td>\n",
       "      <td>2.0</td>\n",
       "      <td>1.0</td>\n",
       "      <td>2.0</td>\n",
       "      <td>3</td>\n",
       "      <td>63.3</td>\n",
       "      <td>58.0</td>\n",
       "      <td>335.0</td>\n",
       "      <td>4.34</td>\n",
       "      <td>4.35</td>\n",
       "      <td>2.75</td>\n",
       "    </tr>\n",
       "    <tr>\n",
       "      <th>5</th>\n",
       "      <td>6.0</td>\n",
       "      <td>0.24</td>\n",
       "      <td>3.0</td>\n",
       "      <td>1.0</td>\n",
       "      <td>6.0</td>\n",
       "      <td>1</td>\n",
       "      <td>62.8</td>\n",
       "      <td>57.0</td>\n",
       "      <td>336.0</td>\n",
       "      <td>3.94</td>\n",
       "      <td>3.96</td>\n",
       "      <td>2.48</td>\n",
       "    </tr>\n",
       "    <tr>\n",
       "      <th>6</th>\n",
       "      <td>7.0</td>\n",
       "      <td>0.24</td>\n",
       "      <td>3.0</td>\n",
       "      <td>2.0</td>\n",
       "      <td>5.0</td>\n",
       "      <td>2</td>\n",
       "      <td>62.3</td>\n",
       "      <td>57.0</td>\n",
       "      <td>336.0</td>\n",
       "      <td>3.95</td>\n",
       "      <td>3.98</td>\n",
       "      <td>2.47</td>\n",
       "    </tr>\n",
       "    <tr>\n",
       "      <th>7</th>\n",
       "      <td>8.0</td>\n",
       "      <td>0.26</td>\n",
       "      <td>3.0</td>\n",
       "      <td>3.0</td>\n",
       "      <td>3.0</td>\n",
       "      <td>3</td>\n",
       "      <td>61.9</td>\n",
       "      <td>55.0</td>\n",
       "      <td>337.0</td>\n",
       "      <td>4.07</td>\n",
       "      <td>4.11</td>\n",
       "      <td>2.53</td>\n",
       "    </tr>\n",
       "    <tr>\n",
       "      <th>8</th>\n",
       "      <td>9.0</td>\n",
       "      <td>0.22</td>\n",
       "      <td>1.0</td>\n",
       "      <td>6.0</td>\n",
       "      <td>4.0</td>\n",
       "      <td>1</td>\n",
       "      <td>61.9</td>\n",
       "      <td>61.0</td>\n",
       "      <td>337.0</td>\n",
       "      <td>3.87</td>\n",
       "      <td>3.78</td>\n",
       "      <td>2.49</td>\n",
       "    </tr>\n",
       "    <tr>\n",
       "      <th>9</th>\n",
       "      <td>10.0</td>\n",
       "      <td>0.23</td>\n",
       "      <td>3.0</td>\n",
       "      <td>3.0</td>\n",
       "      <td>5.0</td>\n",
       "      <td>2</td>\n",
       "      <td>59.4</td>\n",
       "      <td>61.0</td>\n",
       "      <td>2401.0</td>\n",
       "      <td>4.00</td>\n",
       "      <td>4.05</td>\n",
       "      <td>2.39</td>\n",
       "    </tr>\n",
       "    <tr>\n",
       "      <th>10</th>\n",
       "      <td>11.0</td>\n",
       "      <td>0.30</td>\n",
       "      <td>2.0</td>\n",
       "      <td>1.0</td>\n",
       "      <td>3.0</td>\n",
       "      <td>3</td>\n",
       "      <td>64.0</td>\n",
       "      <td>55.0</td>\n",
       "      <td>339.0</td>\n",
       "      <td>4.25</td>\n",
       "      <td>4.28</td>\n",
       "      <td>2.73</td>\n",
       "    </tr>\n",
       "    <tr>\n",
       "      <th>11</th>\n",
       "      <td>12.0</td>\n",
       "      <td>0.23</td>\n",
       "      <td>5.0</td>\n",
       "      <td>1.0</td>\n",
       "      <td>5.0</td>\n",
       "      <td>2</td>\n",
       "      <td>62.8</td>\n",
       "      <td>56.0</td>\n",
       "      <td>340.0</td>\n",
       "      <td>3.93</td>\n",
       "      <td>3.90</td>\n",
       "      <td>2.46</td>\n",
       "    </tr>\n",
       "    <tr>\n",
       "      <th>12</th>\n",
       "      <td>13.0</td>\n",
       "      <td>0.22</td>\n",
       "      <td>4.0</td>\n",
       "      <td>5.0</td>\n",
       "      <td>3.0</td>\n",
       "      <td>3</td>\n",
       "      <td>60.4</td>\n",
       "      <td>61.0</td>\n",
       "      <td>342.0</td>\n",
       "      <td>3.88</td>\n",
       "      <td>3.84</td>\n",
       "      <td>2.33</td>\n",
       "    </tr>\n",
       "    <tr>\n",
       "      <th>13</th>\n",
       "      <td>14.0</td>\n",
       "      <td>0.31</td>\n",
       "      <td>5.0</td>\n",
       "      <td>1.0</td>\n",
       "      <td>2.0</td>\n",
       "      <td>3</td>\n",
       "      <td>62.2</td>\n",
       "      <td>54.0</td>\n",
       "      <td>344.0</td>\n",
       "      <td>4.35</td>\n",
       "      <td>4.37</td>\n",
       "      <td>2.71</td>\n",
       "    </tr>\n",
       "    <tr>\n",
       "      <th>14</th>\n",
       "      <td>15.0</td>\n",
       "      <td>0.20</td>\n",
       "      <td>4.0</td>\n",
       "      <td>6.0</td>\n",
       "      <td>2.0</td>\n",
       "      <td>3</td>\n",
       "      <td>60.2</td>\n",
       "      <td>62.0</td>\n",
       "      <td>345.0</td>\n",
       "      <td>3.79</td>\n",
       "      <td>3.75</td>\n",
       "      <td>2.27</td>\n",
       "    </tr>\n",
       "  </tbody>\n",
       "</table>\n",
       "</div>"
      ],
      "text/plain": [
       "      id  carat  cut  color  clarity  popularity  depth  table   price     x  \\\n",
       "0    1.0   0.23  5.0    6.0      2.0           3   61.5   55.0   326.0  3.95   \n",
       "1    2.0   0.21  4.0    6.0      3.0           3   59.8   61.0   326.0  3.89   \n",
       "2    3.0   0.23  2.0    6.0      5.0           2   61.9   57.0   327.0  4.05   \n",
       "3    4.0   0.29  4.0    2.0      4.0           1   62.4   58.0   334.0  4.20   \n",
       "4    5.0   0.31  2.0    1.0      2.0           3   63.3   58.0   335.0  4.34   \n",
       "5    6.0   0.24  3.0    1.0      6.0           1   62.8   57.0   336.0  3.94   \n",
       "6    7.0   0.24  3.0    2.0      5.0           2   62.3   57.0   336.0  3.95   \n",
       "7    8.0   0.26  3.0    3.0      3.0           3   61.9   55.0   337.0  4.07   \n",
       "8    9.0   0.22  1.0    6.0      4.0           1   61.9   61.0   337.0  3.87   \n",
       "9   10.0   0.23  3.0    3.0      5.0           2   59.4   61.0  2401.0  4.00   \n",
       "10  11.0   0.30  2.0    1.0      3.0           3   64.0   55.0   339.0  4.25   \n",
       "11  12.0   0.23  5.0    1.0      5.0           2   62.8   56.0   340.0  3.93   \n",
       "12  13.0   0.22  4.0    5.0      3.0           3   60.4   61.0   342.0  3.88   \n",
       "13  14.0   0.31  5.0    1.0      2.0           3   62.2   54.0   344.0  4.35   \n",
       "14  15.0   0.20  4.0    6.0      2.0           3   60.2   62.0   345.0  3.79   \n",
       "\n",
       "       y     z  \n",
       "0   3.98  2.43  \n",
       "1   3.84  2.31  \n",
       "2   4.07  2.31  \n",
       "3   4.23  2.63  \n",
       "4   4.35  2.75  \n",
       "5   3.96  2.48  \n",
       "6   3.98  2.47  \n",
       "7   4.11  2.53  \n",
       "8   3.78  2.49  \n",
       "9   4.05  2.39  \n",
       "10  4.28  2.73  \n",
       "11  3.90  2.46  \n",
       "12  3.84  2.33  \n",
       "13  4.37  2.71  \n",
       "14  3.75  2.27  "
      ]
     },
     "execution_count": 63,
     "metadata": {},
     "output_type": "execute_result"
    }
   ],
   "source": [
    "df.head(15)"
   ]
  },
  {
   "cell_type": "code",
   "execution_count": 64,
   "metadata": {},
   "outputs": [
    {
     "data": {
      "text/plain": [
       "<matplotlib.axes._subplots.AxesSubplot at 0x26e2344a1f0>"
      ]
     },
     "execution_count": 64,
     "metadata": {},
     "output_type": "execute_result"
    },
    {
     "data": {
      "image/png": "[encoded data removed]",
      "text/plain": [
       "<Figure size 432x288 with 1 Axes>"
      ]
     },
     "metadata": {
      "needs_background": "light"
     },
     "output_type": "display_data"
    }
   ],
   "source": [
    "sns.histplot(df.carat)\n",
    "\n",
    "\n"
   ]
  },
  {
   "cell_type": "code",
   "execution_count": 65,
   "metadata": {},
   "outputs": [
    {
     "data": {
      "text/plain": [
       "<matplotlib.axes._subplots.AxesSubplot at 0x26e224c1400>"
      ]
     },
     "execution_count": 65,
     "metadata": {},
     "output_type": "execute_result"
    },
    {
     "data": {
      "image/png": "[encoded data removed]",
      "text/plain": [
       "<Figure size 432x288 with 1 Axes>"
      ]
     },
     "metadata": {
      "needs_background": "light"
     },
     "output_type": "display_data"
    }
   ],
   "source": [
    "sns.histplot(df.cut)\n"
   ]
  },
  {
   "cell_type": "code",
   "execution_count": 66,
   "metadata": {},
   "outputs": [
    {
     "data": {
      "text/plain": [
       "<matplotlib.axes._subplots.AxesSubplot at 0x26e22587760>"
      ]
     },
     "execution_count": 66,
     "metadata": {},
     "output_type": "execute_result"
    },
    {
     "data": {
      "image/png": "[encoded data removed]",
      "text/plain": [
       "<Figure size 432x288 with 1 Axes>"
      ]
     },
     "metadata": {
      "needs_background": "light"
     },
     "output_type": "display_data"
    }
   ],
   "source": [
    "sns.histplot(df.color)\n"
   ]
  },
  {
   "cell_type": "code",
   "execution_count": 67,
   "metadata": {},
   "outputs": [
    {
     "data": {
      "text/plain": [
       "<matplotlib.axes._subplots.AxesSubplot at 0x26e22587f10>"
      ]
     },
     "execution_count": 67,
     "metadata": {},
     "output_type": "execute_result"
    },
    {
     "data": {
      "image/png": "[encoded data removed]",
      "text/plain": [
       "<Figure size 432x288 with 1 Axes>"
      ]
     },
     "metadata": {
      "needs_background": "light"
     },
     "output_type": "display_data"
    }
   ],
   "source": [
    "sns.histplot(df.clarity)\n"
   ]
  },
  {
   "cell_type": "code",
   "execution_count": 68,
   "metadata": {},
   "outputs": [
    {
     "data": {
      "text/plain": [
       "<matplotlib.axes._subplots.AxesSubplot at 0x26e233605b0>"
      ]
     },
     "execution_count": 68,
     "metadata": {},
     "output_type": "execute_result"
    },
    {
     "data": {
      "image/png": "[encoded data removed]",
      "text/plain": [
       "<Figure size 432x288 with 1 Axes>"
      ]
     },
     "metadata": {
      "needs_background": "light"
     },
     "output_type": "display_data"
    }
   ],
   "source": [
    "sns.histplot(df.popularity)\n"
   ]
  },
  {
   "cell_type": "code",
   "execution_count": 69,
   "metadata": {},
   "outputs": [
    {
     "data": {
      "text/plain": [
       "<matplotlib.axes._subplots.AxesSubplot at 0x26e23893280>"
      ]
     },
     "execution_count": 69,
     "metadata": {},
     "output_type": "execute_result"
    },
    {
     "data": {
      "image/png": "[encoded data removed]",
      "text/plain": [
       "<Figure size 432x288 with 1 Axes>"
      ]
     },
     "metadata": {
      "needs_background": "light"
     },
     "output_type": "display_data"
    }
   ],
   "source": [
    "sns.histplot(df.depth)\n"
   ]
  },
  {
   "cell_type": "code",
   "execution_count": 70,
   "metadata": {},
   "outputs": [
    {
     "data": {
      "text/plain": [
       "<matplotlib.axes._subplots.AxesSubplot at 0x26e239a59d0>"
      ]
     },
     "execution_count": 70,
     "metadata": {},
     "output_type": "execute_result"
    },
    {
     "data": {
      "image/png": "[encoded data removed]",
      "text/plain": [
       "<Figure size 432x288 with 1 Axes>"
      ]
     },
     "metadata": {
      "needs_background": "light"
     },
     "output_type": "display_data"
    }
   ],
   "source": [
    "sns.histplot(df.table)\n"
   ]
  },
  {
   "cell_type": "code",
   "execution_count": 71,
   "metadata": {},
   "outputs": [
    {
     "data": {
      "text/plain": [
       "<matplotlib.axes._subplots.AxesSubplot at 0x26e2339ed00>"
      ]
     },
     "execution_count": 71,
     "metadata": {},
     "output_type": "execute_result"
    },
    {
     "data": {
      "image/png": "[encoded data removed]",
      "text/plain": [
       "<Figure size 432x288 with 1 Axes>"
      ]
     },
     "metadata": {
      "needs_background": "light"
     },
     "output_type": "display_data"
    }
   ],
   "source": [
    "sns.histplot(df.price)\n"
   ]
  },
  {
   "cell_type": "code",
   "execution_count": 72,
   "metadata": {},
   "outputs": [
    {
     "data": {
      "text/plain": [
       "<matplotlib.axes._subplots.AxesSubplot at 0x26e23ab7ee0>"
      ]
     },
     "execution_count": 72,
     "metadata": {},
     "output_type": "execute_result"
    },
    {
     "data": {
      "image/png": "[encoded data removed]",
      "text/plain": [
       "<Figure size 432x288 with 1 Axes>"
      ]
     },
     "metadata": {
      "needs_background": "light"
     },
     "output_type": "display_data"
    }
   ],
   "source": [
    "sns.histplot(df.x)\n"
   ]
  },
  {
   "cell_type": "code",
   "execution_count": 73,
   "metadata": {},
   "outputs": [
    {
     "data": {
      "text/plain": [
       "<matplotlib.axes._subplots.AxesSubplot at 0x26e23c79ee0>"
      ]
     },
     "execution_count": 73,
     "metadata": {},
     "output_type": "execute_result"
    },
    {
     "data": {
      "image/png": "[encoded data removed]",
      "text/plain": [
       "<Figure size 432x288 with 1 Axes>"
      ]
     },
     "metadata": {
      "needs_background": "light"
     },
     "output_type": "display_data"
    }
   ],
   "source": [
    "sns.histplot(df.y)"
   ]
  },
  {
   "cell_type": "code",
   "execution_count": 74,
   "metadata": {},
   "outputs": [
    {
     "data": {
      "text/plain": [
       "<matplotlib.axes._subplots.AxesSubplot at 0x26e25781a60>"
      ]
     },
     "execution_count": 74,
     "metadata": {},
     "output_type": "execute_result"
    },
    {
     "data": {
      "image/png": "[encoded data removed]",
      "text/plain": [
       "<Figure size 432x288 with 1 Axes>"
      ]
     },
     "metadata": {
      "needs_background": "light"
     },
     "output_type": "display_data"
    }
   ],
   "source": [
    "\n",
    "sns.histplot(df.z)"
   ]
  },
  {
   "cell_type": "markdown",
   "metadata": {},
   "source": [
    "# 11. Provide Boxplots for all columns "
   ]
  },
  {
   "cell_type": "code",
   "execution_count": 75,
   "metadata": {},
   "outputs": [
    {
     "data": {
      "text/plain": [
       "<matplotlib.axes._subplots.AxesSubplot at 0x26e258639a0>"
      ]
     },
     "execution_count": 75,
     "metadata": {},
     "output_type": "execute_result"
    },
    {
     "data": {
      "image/png": "[encoded data removed]",
      "text/plain": [
       "<Figure size 432x288 with 1 Axes>"
      ]
     },
     "metadata": {
      "needs_background": "light"
     },
     "output_type": "display_data"
    }
   ],
   "source": [
    "sns.boxplot(x=df.carat)"
   ]
  },
  {
   "cell_type": "code",
   "execution_count": 76,
   "metadata": {},
   "outputs": [
    {
     "data": {
      "text/plain": [
       "<matplotlib.axes._subplots.AxesSubplot at 0x26e25895400>"
      ]
     },
     "execution_count": 76,
     "metadata": {},
     "output_type": "execute_result"
    },
    {
     "data": {
      "image/png": "[encoded data removed]",
      "text/plain": [
       "<Figure size 432x288 with 1 Axes>"
      ]
     },
     "metadata": {
      "needs_background": "light"
     },
     "output_type": "display_data"
    }
   ],
   "source": [
    "sns.boxplot(x=df.clarity)"
   ]
  },
  {
   "cell_type": "code",
   "execution_count": 77,
   "metadata": {},
   "outputs": [
    {
     "data": {
      "text/plain": [
       "<matplotlib.axes._subplots.AxesSubplot at 0x26e25901370>"
      ]
     },
     "execution_count": 77,
     "metadata": {},
     "output_type": "execute_result"
    },
    {
     "data": {
      "image/png": "[encoded data removed]",
      "text/plain": [
       "<Figure size 432x288 with 1 Axes>"
      ]
     },
     "metadata": {
      "needs_background": "light"
     },
     "output_type": "display_data"
    }
   ],
   "source": [
    "sns.boxplot(x=df.color)"
   ]
  },
  {
   "cell_type": "code",
   "execution_count": 78,
   "metadata": {},
   "outputs": [
    {
     "data": {
      "text/plain": [
       "<matplotlib.axes._subplots.AxesSubplot at 0x26e259987c0>"
      ]
     },
     "execution_count": 78,
     "metadata": {},
     "output_type": "execute_result"
    },
    {
     "data": {
      "image/png": "[encoded data removed]",
      "text/plain": [
       "<Figure size 432x288 with 1 Axes>"
      ]
     },
     "metadata": {
      "needs_background": "light"
     },
     "output_type": "display_data"
    }
   ],
   "source": [
    "sns.boxplot(x=df.cut)"
   ]
  },
  {
   "cell_type": "code",
   "execution_count": 79,
   "metadata": {},
   "outputs": [
    {
     "data": {
      "text/plain": [
       "<matplotlib.axes._subplots.AxesSubplot at 0x26e259e4cd0>"
      ]
     },
     "execution_count": 79,
     "metadata": {},
     "output_type": "execute_result"
    },
    {
     "data": {
      "image/png": "[encoded data removed]",
      "text/plain": [
       "<Figure size 432x288 with 1 Axes>"
      ]
     },
     "metadata": {
      "needs_background": "light"
     },
     "output_type": "display_data"
    }
   ],
   "source": [
    "sns.boxplot(x=df.popularity)"
   ]
  },
  {
   "cell_type": "code",
   "execution_count": 80,
   "metadata": {},
   "outputs": [
    {
     "data": {
      "text/plain": [
       "<matplotlib.axes._subplots.AxesSubplot at 0x26e25a42430>"
      ]
     },
     "execution_count": 80,
     "metadata": {},
     "output_type": "execute_result"
    },
    {
     "data": {
      "image/png": "[encoded data removed]",
      "text/plain": [
       "<Figure size 432x288 with 1 Axes>"
      ]
     },
     "metadata": {
      "needs_background": "light"
     },
     "output_type": "display_data"
    }
   ],
   "source": [
    "sns.boxplot(x=df.depth)"
   ]
  },
  {
   "cell_type": "code",
   "execution_count": 81,
   "metadata": {},
   "outputs": [
    {
     "data": {
      "text/plain": [
       "<matplotlib.axes._subplots.AxesSubplot at 0x26e25a9baf0>"
      ]
     },
     "execution_count": 81,
     "metadata": {},
     "output_type": "execute_result"
    },
    {
     "data": {
      "image/png": "[encoded data removed]",
      "text/plain": [
       "<Figure size 432x288 with 1 Axes>"
      ]
     },
     "metadata": {
      "needs_background": "light"
     },
     "output_type": "display_data"
    }
   ],
   "source": [
    "sns.boxplot(x=df.table)"
   ]
  },
  {
   "cell_type": "code",
   "execution_count": 82,
   "metadata": {},
   "outputs": [
    {
     "data": {
      "text/plain": [
       "<matplotlib.axes._subplots.AxesSubplot at 0x26e25aff280>"
      ]
     },
     "execution_count": 82,
     "metadata": {},
     "output_type": "execute_result"
    },
    {
     "data": {
      "image/png": "[encoded data removed]",
      "text/plain": [
       "<Figure size 432x288 with 1 Axes>"
      ]
     },
     "metadata": {
      "needs_background": "light"
     },
     "output_type": "display_data"
    }
   ],
   "source": [
    "sns.boxplot(x=df.price)"
   ]
  },
  {
   "cell_type": "code",
   "execution_count": 83,
   "metadata": {},
   "outputs": [
    {
     "data": {
      "text/plain": [
       "<matplotlib.axes._subplots.AxesSubplot at 0x26e25b58550>"
      ]
     },
     "execution_count": 83,
     "metadata": {},
     "output_type": "execute_result"
    },
    {
     "data": {
      "image/png": "[encoded data removed]",
      "text/plain": [
       "<Figure size 432x288 with 1 Axes>"
      ]
     },
     "metadata": {
      "needs_background": "light"
     },
     "output_type": "display_data"
    }
   ],
   "source": [
    "sns.boxplot(x=df.x)"
   ]
  },
  {
   "cell_type": "code",
   "execution_count": 84,
   "metadata": {},
   "outputs": [
    {
     "data": {
      "text/plain": [
       "<matplotlib.axes._subplots.AxesSubplot at 0x26e25bb1430>"
      ]
     },
     "execution_count": 84,
     "metadata": {},
     "output_type": "execute_result"
    },
    {
     "data": {
      "image/png": "[encoded data removed]",
      "text/plain": [
       "<Figure size 432x288 with 1 Axes>"
      ]
     },
     "metadata": {
      "needs_background": "light"
     },
     "output_type": "display_data"
    }
   ],
   "source": [
    "sns.boxplot(x=df.y)"
   ]
  },
  {
   "cell_type": "code",
   "execution_count": 85,
   "metadata": {},
   "outputs": [
    {
     "data": {
      "text/plain": [
       "<matplotlib.axes._subplots.AxesSubplot at 0x26e25c06e50>"
      ]
     },
     "execution_count": 85,
     "metadata": {},
     "output_type": "execute_result"
    },
    {
     "data": {
      "image/png": "[encoded data removed]",
      "text/plain": [
       "<Figure size 432x288 with 1 Axes>"
      ]
     },
     "metadata": {
      "needs_background": "light"
     },
     "output_type": "display_data"
    }
   ],
   "source": [
    "sns.boxplot(x=df.z)"
   ]
  },
  {
   "cell_type": "markdown",
   "metadata": {},
   "source": [
    "# 12.1 For numeric columns provide correlation table"
   ]
  },
  {
   "cell_type": "code",
   "execution_count": 86,
   "metadata": {},
   "outputs": [
    {
     "data": {
      "text/html": [
       "<div>\n",
       "<style scoped>\n",
       "    .dataframe tbody tr th:only-of-type {\n",
       "        vertical-align: middle;\n",
       "    }\n",
       "\n",
       "    .dataframe tbody tr th {\n",
       "        vertical-align: top;\n",
       "    }\n",
       "\n",
       "    .dataframe thead th {\n",
       "        text-align: right;\n",
       "    }\n",
       "</style>\n",
       "<table border=\"1\" class=\"dataframe\">\n",
       "  <thead>\n",
       "    <tr style=\"text-align: right;\">\n",
       "      <th></th>\n",
       "      <th>id</th>\n",
       "      <th>carat</th>\n",
       "      <th>cut</th>\n",
       "      <th>color</th>\n",
       "      <th>clarity</th>\n",
       "      <th>popularity</th>\n",
       "      <th>depth</th>\n",
       "      <th>table</th>\n",
       "      <th>price</th>\n",
       "      <th>x</th>\n",
       "      <th>y</th>\n",
       "      <th>z</th>\n",
       "    </tr>\n",
       "  </thead>\n",
       "  <tbody>\n",
       "    <tr>\n",
       "      <th>id</th>\n",
       "      <td>1.000000</td>\n",
       "      <td>-0.442580</td>\n",
       "      <td>0.096971</td>\n",
       "      <td>0.095175</td>\n",
       "      <td>0.209563</td>\n",
       "      <td>-0.149051</td>\n",
       "      <td>-0.040152</td>\n",
       "      <td>-0.110357</td>\n",
       "      <td>-0.435679</td>\n",
       "      <td>-0.406638</td>\n",
       "      <td>-0.396781</td>\n",
       "      <td>-0.410697</td>\n",
       "    </tr>\n",
       "    <tr>\n",
       "      <th>carat</th>\n",
       "      <td>-0.442580</td>\n",
       "      <td>1.000000</td>\n",
       "      <td>-0.134556</td>\n",
       "      <td>-0.223712</td>\n",
       "      <td>-0.310258</td>\n",
       "      <td>0.194946</td>\n",
       "      <td>0.027691</td>\n",
       "      <td>0.171660</td>\n",
       "      <td>0.793794</td>\n",
       "      <td>0.876476</td>\n",
       "      <td>0.856546</td>\n",
       "      <td>0.879067</td>\n",
       "    </tr>\n",
       "    <tr>\n",
       "      <th>cut</th>\n",
       "      <td>0.096971</td>\n",
       "      <td>-0.134556</td>\n",
       "      <td>1.000000</td>\n",
       "      <td>0.020612</td>\n",
       "      <td>0.188877</td>\n",
       "      <td>-0.113398</td>\n",
       "      <td>-0.234147</td>\n",
       "      <td>-0.379708</td>\n",
       "      <td>-0.071663</td>\n",
       "      <td>-0.126125</td>\n",
       "      <td>-0.122077</td>\n",
       "      <td>-0.150210</td>\n",
       "    </tr>\n",
       "    <tr>\n",
       "      <th>color</th>\n",
       "      <td>0.095175</td>\n",
       "      <td>-0.223712</td>\n",
       "      <td>0.020612</td>\n",
       "      <td>1.000000</td>\n",
       "      <td>-0.025502</td>\n",
       "      <td>-0.012588</td>\n",
       "      <td>-0.039823</td>\n",
       "      <td>-0.027607</td>\n",
       "      <td>-0.132864</td>\n",
       "      <td>-0.270841</td>\n",
       "      <td>-0.264072</td>\n",
       "      <td>-0.273716</td>\n",
       "    </tr>\n",
       "    <tr>\n",
       "      <th>clarity</th>\n",
       "      <td>0.209563</td>\n",
       "      <td>-0.310258</td>\n",
       "      <td>0.188877</td>\n",
       "      <td>-0.025502</td>\n",
       "      <td>1.000000</td>\n",
       "      <td>-0.558045</td>\n",
       "      <td>-0.063093</td>\n",
       "      <td>-0.159660</td>\n",
       "      <td>-0.145313</td>\n",
       "      <td>-0.372847</td>\n",
       "      <td>-0.359027</td>\n",
       "      <td>-0.374509</td>\n",
       "    </tr>\n",
       "    <tr>\n",
       "      <th>popularity</th>\n",
       "      <td>-0.149051</td>\n",
       "      <td>0.194946</td>\n",
       "      <td>-0.113398</td>\n",
       "      <td>-0.012588</td>\n",
       "      <td>-0.558045</td>\n",
       "      <td>1.000000</td>\n",
       "      <td>0.039241</td>\n",
       "      <td>0.089089</td>\n",
       "      <td>0.086613</td>\n",
       "      <td>0.239814</td>\n",
       "      <td>0.233031</td>\n",
       "      <td>0.242757</td>\n",
       "    </tr>\n",
       "    <tr>\n",
       "      <th>depth</th>\n",
       "      <td>-0.040152</td>\n",
       "      <td>0.027691</td>\n",
       "      <td>-0.234147</td>\n",
       "      <td>-0.039823</td>\n",
       "      <td>-0.063093</td>\n",
       "      <td>0.039241</td>\n",
       "      <td>1.000000</td>\n",
       "      <td>-0.225391</td>\n",
       "      <td>0.009727</td>\n",
       "      <td>-0.017840</td>\n",
       "      <td>-0.021054</td>\n",
       "      <td>0.073063</td>\n",
       "    </tr>\n",
       "    <tr>\n",
       "      <th>table</th>\n",
       "      <td>-0.110357</td>\n",
       "      <td>0.171660</td>\n",
       "      <td>-0.379708</td>\n",
       "      <td>-0.027607</td>\n",
       "      <td>-0.159660</td>\n",
       "      <td>0.089089</td>\n",
       "      <td>-0.225391</td>\n",
       "      <td>1.000000</td>\n",
       "      <td>0.122827</td>\n",
       "      <td>0.194538</td>\n",
       "      <td>0.184545</td>\n",
       "      <td>0.160029</td>\n",
       "    </tr>\n",
       "    <tr>\n",
       "      <th>price</th>\n",
       "      <td>-0.435679</td>\n",
       "      <td>0.793794</td>\n",
       "      <td>-0.071663</td>\n",
       "      <td>-0.132864</td>\n",
       "      <td>-0.145313</td>\n",
       "      <td>0.086613</td>\n",
       "      <td>0.009727</td>\n",
       "      <td>0.122827</td>\n",
       "      <td>1.000000</td>\n",
       "      <td>0.719952</td>\n",
       "      <td>0.702465</td>\n",
       "      <td>0.719728</td>\n",
       "    </tr>\n",
       "    <tr>\n",
       "      <th>x</th>\n",
       "      <td>-0.406638</td>\n",
       "      <td>0.876476</td>\n",
       "      <td>-0.126125</td>\n",
       "      <td>-0.270841</td>\n",
       "      <td>-0.372847</td>\n",
       "      <td>0.239814</td>\n",
       "      <td>-0.017840</td>\n",
       "      <td>0.194538</td>\n",
       "      <td>0.719952</td>\n",
       "      <td>1.000000</td>\n",
       "      <td>0.974926</td>\n",
       "      <td>0.988170</td>\n",
       "    </tr>\n",
       "    <tr>\n",
       "      <th>y</th>\n",
       "      <td>-0.396781</td>\n",
       "      <td>0.856546</td>\n",
       "      <td>-0.122077</td>\n",
       "      <td>-0.264072</td>\n",
       "      <td>-0.359027</td>\n",
       "      <td>0.233031</td>\n",
       "      <td>-0.021054</td>\n",
       "      <td>0.184545</td>\n",
       "      <td>0.702465</td>\n",
       "      <td>0.974926</td>\n",
       "      <td>1.000000</td>\n",
       "      <td>0.963933</td>\n",
       "    </tr>\n",
       "    <tr>\n",
       "      <th>z</th>\n",
       "      <td>-0.410697</td>\n",
       "      <td>0.879067</td>\n",
       "      <td>-0.150210</td>\n",
       "      <td>-0.273716</td>\n",
       "      <td>-0.374509</td>\n",
       "      <td>0.242757</td>\n",
       "      <td>0.073063</td>\n",
       "      <td>0.160029</td>\n",
       "      <td>0.719728</td>\n",
       "      <td>0.988170</td>\n",
       "      <td>0.963933</td>\n",
       "      <td>1.000000</td>\n",
       "    </tr>\n",
       "  </tbody>\n",
       "</table>\n",
       "</div>"
      ],
      "text/plain": [
       "                  id     carat       cut     color   clarity  popularity  \\\n",
       "id          1.000000 -0.442580  0.096971  0.095175  0.209563   -0.149051   \n",
       "carat      -0.442580  1.000000 -0.134556 -0.223712 -0.310258    0.194946   \n",
       "cut         0.096971 -0.134556  1.000000  0.020612  0.188877   -0.113398   \n",
       "color       0.095175 -0.223712  0.020612  1.000000 -0.025502   -0.012588   \n",
       "clarity     0.209563 -0.310258  0.188877 -0.025502  1.000000   -0.558045   \n",
       "popularity -0.149051  0.194946 -0.113398 -0.012588 -0.558045    1.000000   \n",
       "depth      -0.040152  0.027691 -0.234147 -0.039823 -0.063093    0.039241   \n",
       "table      -0.110357  0.171660 -0.379708 -0.027607 -0.159660    0.089089   \n",
       "price      -0.435679  0.793794 -0.071663 -0.132864 -0.145313    0.086613   \n",
       "x          -0.406638  0.876476 -0.126125 -0.270841 -0.372847    0.239814   \n",
       "y          -0.396781  0.856546 -0.122077 -0.264072 -0.359027    0.233031   \n",
       "z          -0.410697  0.879067 -0.150210 -0.273716 -0.374509    0.242757   \n",
       "\n",
       "               depth     table     price         x         y         z  \n",
       "id         -0.040152 -0.110357 -0.435679 -0.406638 -0.396781 -0.410697  \n",
       "carat       0.027691  0.171660  0.793794  0.876476  0.856546  0.879067  \n",
       "cut        -0.234147 -0.379708 -0.071663 -0.126125 -0.122077 -0.150210  \n",
       "color      -0.039823 -0.027607 -0.132864 -0.270841 -0.264072 -0.273716  \n",
       "clarity    -0.063093 -0.159660 -0.145313 -0.372847 -0.359027 -0.374509  \n",
       "popularity  0.039241  0.089089  0.086613  0.239814  0.233031  0.242757  \n",
       "depth       1.000000 -0.225391  0.009727 -0.017840 -0.021054  0.073063  \n",
       "table      -0.225391  1.000000  0.122827  0.194538  0.184545  0.160029  \n",
       "price       0.009727  0.122827  1.000000  0.719952  0.702465  0.719728  \n",
       "x          -0.017840  0.194538  0.719952  1.000000  0.974926  0.988170  \n",
       "y          -0.021054  0.184545  0.702465  0.974926  1.000000  0.963933  \n",
       "z           0.073063  0.160029  0.719728  0.988170  0.963933  1.000000  "
      ]
     },
     "execution_count": 86,
     "metadata": {},
     "output_type": "execute_result"
    }
   ],
   "source": [
    "df.corr()"
   ]
  },
  {
   "cell_type": "code",
   "execution_count": 87,
   "metadata": {},
   "outputs": [
    {
     "data": {
      "text/html": [
       "<div>\n",
       "<style scoped>\n",
       "    .dataframe tbody tr th:only-of-type {\n",
       "        vertical-align: middle;\n",
       "    }\n",
       "\n",
       "    .dataframe tbody tr th {\n",
       "        vertical-align: top;\n",
       "    }\n",
       "\n",
       "    .dataframe thead th {\n",
       "        text-align: right;\n",
       "    }\n",
       "</style>\n",
       "<table border=\"1\" class=\"dataframe\">\n",
       "  <thead>\n",
       "    <tr style=\"text-align: right;\">\n",
       "      <th></th>\n",
       "      <th>carat</th>\n",
       "      <th>cut</th>\n",
       "      <th>color</th>\n",
       "      <th>clarity</th>\n",
       "      <th>popularity</th>\n",
       "      <th>depth</th>\n",
       "      <th>table</th>\n",
       "      <th>price</th>\n",
       "      <th>x</th>\n",
       "      <th>y</th>\n",
       "      <th>z</th>\n",
       "    </tr>\n",
       "  </thead>\n",
       "  <tbody>\n",
       "    <tr>\n",
       "      <th>carat</th>\n",
       "      <td>1.000000</td>\n",
       "      <td>-0.134556</td>\n",
       "      <td>-0.223712</td>\n",
       "      <td>-0.310258</td>\n",
       "      <td>0.194946</td>\n",
       "      <td>0.027691</td>\n",
       "      <td>0.171660</td>\n",
       "      <td>0.793794</td>\n",
       "      <td>0.876476</td>\n",
       "      <td>0.856546</td>\n",
       "      <td>0.879067</td>\n",
       "    </tr>\n",
       "    <tr>\n",
       "      <th>cut</th>\n",
       "      <td>-0.134556</td>\n",
       "      <td>1.000000</td>\n",
       "      <td>0.020612</td>\n",
       "      <td>0.188877</td>\n",
       "      <td>-0.113398</td>\n",
       "      <td>-0.234147</td>\n",
       "      <td>-0.379708</td>\n",
       "      <td>-0.071663</td>\n",
       "      <td>-0.126125</td>\n",
       "      <td>-0.122077</td>\n",
       "      <td>-0.150210</td>\n",
       "    </tr>\n",
       "    <tr>\n",
       "      <th>color</th>\n",
       "      <td>-0.223712</td>\n",
       "      <td>0.020612</td>\n",
       "      <td>1.000000</td>\n",
       "      <td>-0.025502</td>\n",
       "      <td>-0.012588</td>\n",
       "      <td>-0.039823</td>\n",
       "      <td>-0.027607</td>\n",
       "      <td>-0.132864</td>\n",
       "      <td>-0.270841</td>\n",
       "      <td>-0.264072</td>\n",
       "      <td>-0.273716</td>\n",
       "    </tr>\n",
       "    <tr>\n",
       "      <th>clarity</th>\n",
       "      <td>-0.310258</td>\n",
       "      <td>0.188877</td>\n",
       "      <td>-0.025502</td>\n",
       "      <td>1.000000</td>\n",
       "      <td>-0.558045</td>\n",
       "      <td>-0.063093</td>\n",
       "      <td>-0.159660</td>\n",
       "      <td>-0.145313</td>\n",
       "      <td>-0.372847</td>\n",
       "      <td>-0.359027</td>\n",
       "      <td>-0.374509</td>\n",
       "    </tr>\n",
       "    <tr>\n",
       "      <th>popularity</th>\n",
       "      <td>0.194946</td>\n",
       "      <td>-0.113398</td>\n",
       "      <td>-0.012588</td>\n",
       "      <td>-0.558045</td>\n",
       "      <td>1.000000</td>\n",
       "      <td>0.039241</td>\n",
       "      <td>0.089089</td>\n",
       "      <td>0.086613</td>\n",
       "      <td>0.239814</td>\n",
       "      <td>0.233031</td>\n",
       "      <td>0.242757</td>\n",
       "    </tr>\n",
       "    <tr>\n",
       "      <th>depth</th>\n",
       "      <td>0.027691</td>\n",
       "      <td>-0.234147</td>\n",
       "      <td>-0.039823</td>\n",
       "      <td>-0.063093</td>\n",
       "      <td>0.039241</td>\n",
       "      <td>1.000000</td>\n",
       "      <td>-0.225391</td>\n",
       "      <td>0.009727</td>\n",
       "      <td>-0.017840</td>\n",
       "      <td>-0.021054</td>\n",
       "      <td>0.073063</td>\n",
       "    </tr>\n",
       "    <tr>\n",
       "      <th>table</th>\n",
       "      <td>0.171660</td>\n",
       "      <td>-0.379708</td>\n",
       "      <td>-0.027607</td>\n",
       "      <td>-0.159660</td>\n",
       "      <td>0.089089</td>\n",
       "      <td>-0.225391</td>\n",
       "      <td>1.000000</td>\n",
       "      <td>0.122827</td>\n",
       "      <td>0.194538</td>\n",
       "      <td>0.184545</td>\n",
       "      <td>0.160029</td>\n",
       "    </tr>\n",
       "    <tr>\n",
       "      <th>price</th>\n",
       "      <td>0.793794</td>\n",
       "      <td>-0.071663</td>\n",
       "      <td>-0.132864</td>\n",
       "      <td>-0.145313</td>\n",
       "      <td>0.086613</td>\n",
       "      <td>0.009727</td>\n",
       "      <td>0.122827</td>\n",
       "      <td>1.000000</td>\n",
       "      <td>0.719952</td>\n",
       "      <td>0.702465</td>\n",
       "      <td>0.719728</td>\n",
       "    </tr>\n",
       "    <tr>\n",
       "      <th>x</th>\n",
       "      <td>0.876476</td>\n",
       "      <td>-0.126125</td>\n",
       "      <td>-0.270841</td>\n",
       "      <td>-0.372847</td>\n",
       "      <td>0.239814</td>\n",
       "      <td>-0.017840</td>\n",
       "      <td>0.194538</td>\n",
       "      <td>0.719952</td>\n",
       "      <td>1.000000</td>\n",
       "      <td>0.974926</td>\n",
       "      <td>0.988170</td>\n",
       "    </tr>\n",
       "    <tr>\n",
       "      <th>y</th>\n",
       "      <td>0.856546</td>\n",
       "      <td>-0.122077</td>\n",
       "      <td>-0.264072</td>\n",
       "      <td>-0.359027</td>\n",
       "      <td>0.233031</td>\n",
       "      <td>-0.021054</td>\n",
       "      <td>0.184545</td>\n",
       "      <td>0.702465</td>\n",
       "      <td>0.974926</td>\n",
       "      <td>1.000000</td>\n",
       "      <td>0.963933</td>\n",
       "    </tr>\n",
       "    <tr>\n",
       "      <th>z</th>\n",
       "      <td>0.879067</td>\n",
       "      <td>-0.150210</td>\n",
       "      <td>-0.273716</td>\n",
       "      <td>-0.374509</td>\n",
       "      <td>0.242757</td>\n",
       "      <td>0.073063</td>\n",
       "      <td>0.160029</td>\n",
       "      <td>0.719728</td>\n",
       "      <td>0.988170</td>\n",
       "      <td>0.963933</td>\n",
       "      <td>1.000000</td>\n",
       "    </tr>\n",
       "  </tbody>\n",
       "</table>\n",
       "</div>"
      ],
      "text/plain": [
       "               carat       cut     color   clarity  popularity     depth  \\\n",
       "carat       1.000000 -0.134556 -0.223712 -0.310258    0.194946  0.027691   \n",
       "cut        -0.134556  1.000000  0.020612  0.188877   -0.113398 -0.234147   \n",
       "color      -0.223712  0.020612  1.000000 -0.025502   -0.012588 -0.039823   \n",
       "clarity    -0.310258  0.188877 -0.025502  1.000000   -0.558045 -0.063093   \n",
       "popularity  0.194946 -0.113398 -0.012588 -0.558045    1.000000  0.039241   \n",
       "depth       0.027691 -0.234147 -0.039823 -0.063093    0.039241  1.000000   \n",
       "table       0.171660 -0.379708 -0.027607 -0.159660    0.089089 -0.225391   \n",
       "price       0.793794 -0.071663 -0.132864 -0.145313    0.086613  0.009727   \n",
       "x           0.876476 -0.126125 -0.270841 -0.372847    0.239814 -0.017840   \n",
       "y           0.856546 -0.122077 -0.264072 -0.359027    0.233031 -0.021054   \n",
       "z           0.879067 -0.150210 -0.273716 -0.374509    0.242757  0.073063   \n",
       "\n",
       "               table     price         x         y         z  \n",
       "carat       0.171660  0.793794  0.876476  0.856546  0.879067  \n",
       "cut        -0.379708 -0.071663 -0.126125 -0.122077 -0.150210  \n",
       "color      -0.027607 -0.132864 -0.270841 -0.264072 -0.273716  \n",
       "clarity    -0.159660 -0.145313 -0.372847 -0.359027 -0.374509  \n",
       "popularity  0.089089  0.086613  0.239814  0.233031  0.242757  \n",
       "depth      -0.225391  0.009727 -0.017840 -0.021054  0.073063  \n",
       "table       1.000000  0.122827  0.194538  0.184545  0.160029  \n",
       "price       0.122827  1.000000  0.719952  0.702465  0.719728  \n",
       "x           0.194538  0.719952  1.000000  0.974926  0.988170  \n",
       "y           0.184545  0.702465  0.974926  1.000000  0.963933  \n",
       "z           0.160029  0.719728  0.988170  0.963933  1.000000  "
      ]
     },
     "execution_count": 87,
     "metadata": {},
     "output_type": "execute_result"
    }
   ],
   "source": [
    "df1=df.drop(columns='id')\n",
    "df1.corr()"
   ]
  },
  {
   "cell_type": "code",
   "execution_count": 88,
   "metadata": {},
   "outputs": [
    {
     "data": {
      "text/plain": [
       "<matplotlib.axes._subplots.AxesSubplot at 0x26e25c54460>"
      ]
     },
     "execution_count": 88,
     "metadata": {},
     "output_type": "execute_result"
    },
    {
     "data": {
      "image/png": "[encoded data removed]",
      "text/plain": [
       "<Figure size 432x288 with 2 Axes>"
      ]
     },
     "metadata": {
      "needs_background": "light"
     },
     "output_type": "display_data"
    }
   ],
   "source": [
    "sns.heatmap(data=df.corr(),\n",
    "            square=True,linewidths=.2)"
   ]
  },
  {
   "cell_type": "code",
   "execution_count": null,
   "metadata": {},
   "outputs": [],
   "source": []
  },
  {
   "cell_type": "markdown",
   "metadata": {},
   "source": [
    "\n",
    "# 13. Prepare a relationship chart showing relation of each numeric column                with the price column"
   ]
  },
  {
   "cell_type": "code",
   "execution_count": 89,
   "metadata": {},
   "outputs": [
    {
     "data": {
      "text/plain": [
       "<matplotlib.axes._subplots.AxesSubplot at 0x26e26123430>"
      ]
     },
     "execution_count": 89,
     "metadata": {},
     "output_type": "execute_result"
    },
    {
     "data": {
      "image/png": "[encoded data removed]",
      "text/plain": [
       "<Figure size 432x288 with 1 Axes>"
      ]
     },
     "metadata": {
      "needs_background": "light"
     },
     "output_type": "display_data"
    }
   ],
   "source": [
    "sns.lineplot(x=df.carat,y=df.price)"
   ]
  },
  {
   "cell_type": "code",
   "execution_count": 90,
   "metadata": {},
   "outputs": [
    {
     "data": {
      "text/plain": [
       "<matplotlib.axes._subplots.AxesSubplot at 0x26e273a0e80>"
      ]
     },
     "execution_count": 90,
     "metadata": {},
     "output_type": "execute_result"
    },
    {
     "data": {
      "image/png": "[encoded data removed]",
      "text/plain": [
       "<Figure size 432x288 with 1 Axes>"
      ]
     },
     "metadata": {
      "needs_background": "light"
     },
     "output_type": "display_data"
    }
   ],
   "source": [
    "sns.lineplot(x=df.depth,y=df.price)"
   ]
  },
  {
   "cell_type": "code",
   "execution_count": 91,
   "metadata": {},
   "outputs": [
    {
     "data": {
      "text/plain": [
       "<matplotlib.axes._subplots.AxesSubplot at 0x26e271ab790>"
      ]
     },
     "execution_count": 91,
     "metadata": {},
     "output_type": "execute_result"
    },
    {
     "data": {
      "image/png": "[encoded data removed]",
      "text/plain": [
       "<Figure size 432x288 with 1 Axes>"
      ]
     },
     "metadata": {
      "needs_background": "light"
     },
     "output_type": "display_data"
    }
   ],
   "source": [
    "sns.lineplot(x=df.table,y=df.price)"
   ]
  },
  {
   "cell_type": "code",
   "execution_count": 92,
   "metadata": {},
   "outputs": [
    {
     "data": {
      "text/plain": [
       "<matplotlib.axes._subplots.AxesSubplot at 0x26e271cfc10>"
      ]
     },
     "execution_count": 92,
     "metadata": {},
     "output_type": "execute_result"
    },
    {
     "data": {
      "image/png": "[encoded data removed]",
      "text/plain": [
       "<Figure size 432x288 with 1 Axes>"
      ]
     },
     "metadata": {
      "needs_background": "light"
     },
     "output_type": "display_data"
    }
   ],
   "source": [
    "sns.lineplot(x=df.y,y=df.price)"
   ]
  },
  {
   "cell_type": "code",
   "execution_count": 93,
   "metadata": {},
   "outputs": [
    {
     "data": {
      "text/plain": [
       "<matplotlib.axes._subplots.AxesSubplot at 0x26e2751dac0>"
      ]
     },
     "execution_count": 93,
     "metadata": {},
     "output_type": "execute_result"
    },
    {
     "data": {
      "image/png": "[encoded data removed]",
      "text/plain": [
       "<Figure size 432x288 with 1 Axes>"
      ]
     },
     "metadata": {
      "needs_background": "light"
     },
     "output_type": "display_data"
    }
   ],
   "source": [
    "sns.lineplot(x=df.z,y=df.price)"
   ]
  },
  {
   "cell_type": "code",
   "execution_count": 94,
   "metadata": {},
   "outputs": [
    {
     "data": {
      "text/plain": [
       "<matplotlib.axes._subplots.AxesSubplot at 0x26e27576be0>"
      ]
     },
     "execution_count": 94,
     "metadata": {},
     "output_type": "execute_result"
    },
    {
     "data": {
      "image/png": "[encoded data removed]",
      "text/plain": [
       "<Figure size 432x288 with 1 Axes>"
      ]
     },
     "metadata": {
      "needs_background": "light"
     },
     "output_type": "display_data"
    }
   ],
   "source": [
    "sns.barplot(x=df.cut,y=df.price)"
   ]
  },
  {
   "cell_type": "code",
   "execution_count": 95,
   "metadata": {},
   "outputs": [
    {
     "data": {
      "text/plain": [
       "<matplotlib.axes._subplots.AxesSubplot at 0x26e2758f970>"
      ]
     },
     "execution_count": 95,
     "metadata": {},
     "output_type": "execute_result"
    },
    {
     "data": {
      "image/png": "[encoded data removed]",
      "text/plain": [
       "<Figure size 432x288 with 1 Axes>"
      ]
     },
     "metadata": {
      "needs_background": "light"
     },
     "output_type": "display_data"
    }
   ],
   "source": [
    "sns.barplot(x=df.color,y=df.price)"
   ]
  },
  {
   "cell_type": "code",
   "execution_count": 96,
   "metadata": {},
   "outputs": [
    {
     "data": {
      "text/plain": [
       "<matplotlib.axes._subplots.AxesSubplot at 0x26e27604190>"
      ]
     },
     "execution_count": 96,
     "metadata": {},
     "output_type": "execute_result"
    },
    {
     "data": {
      "image/png": "[encoded data removed]",
      "text/plain": [
       "<Figure size 432x288 with 1 Axes>"
      ]
     },
     "metadata": {
      "needs_background": "light"
     },
     "output_type": "display_data"
    }
   ],
   "source": [
    "sns.barplot(x=df.clarity,y=df.price)"
   ]
  },
  {
   "cell_type": "code",
   "execution_count": 97,
   "metadata": {},
   "outputs": [
    {
     "data": {
      "text/plain": [
       "<matplotlib.axes._subplots.AxesSubplot at 0x26e2765b670>"
      ]
     },
     "execution_count": 97,
     "metadata": {},
     "output_type": "execute_result"
    },
    {
     "data": {
      "image/png": "[encoded data removed]",
      "text/plain": [
       "<Figure size 432x288 with 1 Axes>"
      ]
     },
     "metadata": {
      "needs_background": "light"
     },
     "output_type": "display_data"
    }
   ],
   "source": [
    "sns.barplot(x=df.popularity,y=df.price)"
   ]
  },
  {
   "cell_type": "code",
   "execution_count": 98,
   "metadata": {},
   "outputs": [
    {
     "data": {
      "text/plain": [
       "5.7334746972759465"
      ]
     },
     "execution_count": 98,
     "metadata": {},
     "output_type": "execute_result"
    }
   ],
   "source": [
    "depth=(df.x.mean()+df.y.mean())/2\n",
    "depth"
   ]
  },
  {
   "cell_type": "markdown",
   "metadata": {},
   "source": [
    "# 15."
   ]
  },
  {
   "cell_type": "code",
   "execution_count": 99,
   "metadata": {},
   "outputs": [],
   "source": [
    "df[\"computed depth\"]=df.z/depth# df[df.z/np.mean(df.x,df.y)]"
   ]
  },
  {
   "cell_type": "code",
   "execution_count": 100,
   "metadata": {},
   "outputs": [
    {
     "data": {
      "text/html": [
       "<div>\n",
       "<style scoped>\n",
       "    .dataframe tbody tr th:only-of-type {\n",
       "        vertical-align: middle;\n",
       "    }\n",
       "\n",
       "    .dataframe tbody tr th {\n",
       "        vertical-align: top;\n",
       "    }\n",
       "\n",
       "    .dataframe thead th {\n",
       "        text-align: right;\n",
       "    }\n",
       "</style>\n",
       "<table border=\"1\" class=\"dataframe\">\n",
       "  <thead>\n",
       "    <tr style=\"text-align: right;\">\n",
       "      <th></th>\n",
       "      <th>id</th>\n",
       "      <th>carat</th>\n",
       "      <th>cut</th>\n",
       "      <th>color</th>\n",
       "      <th>clarity</th>\n",
       "      <th>popularity</th>\n",
       "      <th>depth</th>\n",
       "      <th>table</th>\n",
       "      <th>price</th>\n",
       "      <th>x</th>\n",
       "      <th>y</th>\n",
       "      <th>z</th>\n",
       "      <th>computed depth</th>\n",
       "    </tr>\n",
       "  </thead>\n",
       "  <tbody>\n",
       "    <tr>\n",
       "      <th>0</th>\n",
       "      <td>1.0</td>\n",
       "      <td>0.23</td>\n",
       "      <td>5.0</td>\n",
       "      <td>6.0</td>\n",
       "      <td>2.0</td>\n",
       "      <td>3</td>\n",
       "      <td>61.5</td>\n",
       "      <td>55.0</td>\n",
       "      <td>326.0</td>\n",
       "      <td>3.95</td>\n",
       "      <td>3.98</td>\n",
       "      <td>2.43</td>\n",
       "      <td>0.423827</td>\n",
       "    </tr>\n",
       "    <tr>\n",
       "      <th>1</th>\n",
       "      <td>2.0</td>\n",
       "      <td>0.21</td>\n",
       "      <td>4.0</td>\n",
       "      <td>6.0</td>\n",
       "      <td>3.0</td>\n",
       "      <td>3</td>\n",
       "      <td>59.8</td>\n",
       "      <td>61.0</td>\n",
       "      <td>326.0</td>\n",
       "      <td>3.89</td>\n",
       "      <td>3.84</td>\n",
       "      <td>2.31</td>\n",
       "      <td>0.402897</td>\n",
       "    </tr>\n",
       "    <tr>\n",
       "      <th>2</th>\n",
       "      <td>3.0</td>\n",
       "      <td>0.23</td>\n",
       "      <td>2.0</td>\n",
       "      <td>6.0</td>\n",
       "      <td>5.0</td>\n",
       "      <td>2</td>\n",
       "      <td>61.9</td>\n",
       "      <td>57.0</td>\n",
       "      <td>327.0</td>\n",
       "      <td>4.05</td>\n",
       "      <td>4.07</td>\n",
       "      <td>2.31</td>\n",
       "      <td>0.402897</td>\n",
       "    </tr>\n",
       "    <tr>\n",
       "      <th>3</th>\n",
       "      <td>4.0</td>\n",
       "      <td>0.29</td>\n",
       "      <td>4.0</td>\n",
       "      <td>2.0</td>\n",
       "      <td>4.0</td>\n",
       "      <td>1</td>\n",
       "      <td>62.4</td>\n",
       "      <td>58.0</td>\n",
       "      <td>334.0</td>\n",
       "      <td>4.20</td>\n",
       "      <td>4.23</td>\n",
       "      <td>2.63</td>\n",
       "      <td>0.458710</td>\n",
       "    </tr>\n",
       "    <tr>\n",
       "      <th>4</th>\n",
       "      <td>5.0</td>\n",
       "      <td>0.31</td>\n",
       "      <td>2.0</td>\n",
       "      <td>1.0</td>\n",
       "      <td>2.0</td>\n",
       "      <td>3</td>\n",
       "      <td>63.3</td>\n",
       "      <td>58.0</td>\n",
       "      <td>335.0</td>\n",
       "      <td>4.34</td>\n",
       "      <td>4.35</td>\n",
       "      <td>2.75</td>\n",
       "      <td>0.479639</td>\n",
       "    </tr>\n",
       "    <tr>\n",
       "      <th>...</th>\n",
       "      <td>...</td>\n",
       "      <td>...</td>\n",
       "      <td>...</td>\n",
       "      <td>...</td>\n",
       "      <td>...</td>\n",
       "      <td>...</td>\n",
       "      <td>...</td>\n",
       "      <td>...</td>\n",
       "      <td>...</td>\n",
       "      <td>...</td>\n",
       "      <td>...</td>\n",
       "      <td>...</td>\n",
       "      <td>...</td>\n",
       "    </tr>\n",
       "    <tr>\n",
       "      <th>53935</th>\n",
       "      <td>53936.0</td>\n",
       "      <td>0.72</td>\n",
       "      <td>5.0</td>\n",
       "      <td>7.0</td>\n",
       "      <td>3.0</td>\n",
       "      <td>3</td>\n",
       "      <td>60.8</td>\n",
       "      <td>57.0</td>\n",
       "      <td>2757.0</td>\n",
       "      <td>5.75</td>\n",
       "      <td>5.76</td>\n",
       "      <td>3.50</td>\n",
       "      <td>0.610450</td>\n",
       "    </tr>\n",
       "    <tr>\n",
       "      <th>53936</th>\n",
       "      <td>53937.0</td>\n",
       "      <td>0.72</td>\n",
       "      <td>2.0</td>\n",
       "      <td>7.0</td>\n",
       "      <td>3.0</td>\n",
       "      <td>3</td>\n",
       "      <td>63.1</td>\n",
       "      <td>55.0</td>\n",
       "      <td>2757.0</td>\n",
       "      <td>5.69</td>\n",
       "      <td>5.75</td>\n",
       "      <td>3.61</td>\n",
       "      <td>0.629636</td>\n",
       "    </tr>\n",
       "    <tr>\n",
       "      <th>53937</th>\n",
       "      <td>53938.0</td>\n",
       "      <td>0.70</td>\n",
       "      <td>3.0</td>\n",
       "      <td>7.0</td>\n",
       "      <td>3.0</td>\n",
       "      <td>3</td>\n",
       "      <td>62.8</td>\n",
       "      <td>60.0</td>\n",
       "      <td>2757.0</td>\n",
       "      <td>5.66</td>\n",
       "      <td>5.68</td>\n",
       "      <td>3.56</td>\n",
       "      <td>0.620915</td>\n",
       "    </tr>\n",
       "    <tr>\n",
       "      <th>53938</th>\n",
       "      <td>53939.0</td>\n",
       "      <td>0.86</td>\n",
       "      <td>4.0</td>\n",
       "      <td>3.0</td>\n",
       "      <td>2.0</td>\n",
       "      <td>3</td>\n",
       "      <td>61.0</td>\n",
       "      <td>58.0</td>\n",
       "      <td>2757.0</td>\n",
       "      <td>6.15</td>\n",
       "      <td>6.12</td>\n",
       "      <td>3.74</td>\n",
       "      <td>0.652309</td>\n",
       "    </tr>\n",
       "    <tr>\n",
       "      <th>53939</th>\n",
       "      <td>53940.0</td>\n",
       "      <td>0.75</td>\n",
       "      <td>5.0</td>\n",
       "      <td>7.0</td>\n",
       "      <td>2.0</td>\n",
       "      <td>3</td>\n",
       "      <td>62.2</td>\n",
       "      <td>55.0</td>\n",
       "      <td>2757.0</td>\n",
       "      <td>5.83</td>\n",
       "      <td>5.87</td>\n",
       "      <td>3.53</td>\n",
       "      <td>0.615682</td>\n",
       "    </tr>\n",
       "  </tbody>\n",
       "</table>\n",
       "<p>53940 rows × 13 columns</p>\n",
       "</div>"
      ],
      "text/plain": [
       "            id  carat  cut  color  clarity  popularity  depth  table   price  \\\n",
       "0          1.0   0.23  5.0    6.0      2.0           3   61.5   55.0   326.0   \n",
       "1          2.0   0.21  4.0    6.0      3.0           3   59.8   61.0   326.0   \n",
       "2          3.0   0.23  2.0    6.0      5.0           2   61.9   57.0   327.0   \n",
       "3          4.0   0.29  4.0    2.0      4.0           1   62.4   58.0   334.0   \n",
       "4          5.0   0.31  2.0    1.0      2.0           3   63.3   58.0   335.0   \n",
       "...        ...    ...  ...    ...      ...         ...    ...    ...     ...   \n",
       "53935  53936.0   0.72  5.0    7.0      3.0           3   60.8   57.0  2757.0   \n",
       "53936  53937.0   0.72  2.0    7.0      3.0           3   63.1   55.0  2757.0   \n",
       "53937  53938.0   0.70  3.0    7.0      3.0           3   62.8   60.0  2757.0   \n",
       "53938  53939.0   0.86  4.0    3.0      2.0           3   61.0   58.0  2757.0   \n",
       "53939  53940.0   0.75  5.0    7.0      2.0           3   62.2   55.0  2757.0   \n",
       "\n",
       "          x     y     z  computed depth  \n",
       "0      3.95  3.98  2.43        0.423827  \n",
       "1      3.89  3.84  2.31        0.402897  \n",
       "2      4.05  4.07  2.31        0.402897  \n",
       "3      4.20  4.23  2.63        0.458710  \n",
       "4      4.34  4.35  2.75        0.479639  \n",
       "...     ...   ...   ...             ...  \n",
       "53935  5.75  5.76  3.50        0.610450  \n",
       "53936  5.69  5.75  3.61        0.629636  \n",
       "53937  5.66  5.68  3.56        0.620915  \n",
       "53938  6.15  6.12  3.74        0.652309  \n",
       "53939  5.83  5.87  3.53        0.615682  \n",
       "\n",
       "[53940 rows x 13 columns]"
      ]
     },
     "execution_count": 100,
     "metadata": {},
     "output_type": "execute_result"
    }
   ],
   "source": [
    "df"
   ]
  },
  {
   "cell_type": "code",
   "execution_count": 101,
   "metadata": {},
   "outputs": [
    {
     "data": {
      "text/html": [
       "<div>\n",
       "<style scoped>\n",
       "    .dataframe tbody tr th:only-of-type {\n",
       "        vertical-align: middle;\n",
       "    }\n",
       "\n",
       "    .dataframe tbody tr th {\n",
       "        vertical-align: top;\n",
       "    }\n",
       "\n",
       "    .dataframe thead th {\n",
       "        text-align: right;\n",
       "    }\n",
       "</style>\n",
       "<table border=\"1\" class=\"dataframe\">\n",
       "  <thead>\n",
       "    <tr style=\"text-align: right;\">\n",
       "      <th></th>\n",
       "      <th>id</th>\n",
       "      <th>carat</th>\n",
       "      <th>cut</th>\n",
       "      <th>color</th>\n",
       "      <th>clarity</th>\n",
       "      <th>popularity</th>\n",
       "      <th>depth</th>\n",
       "      <th>table</th>\n",
       "      <th>price</th>\n",
       "      <th>x</th>\n",
       "      <th>y</th>\n",
       "      <th>z</th>\n",
       "      <th>computed depth</th>\n",
       "    </tr>\n",
       "  </thead>\n",
       "  <tbody>\n",
       "    <tr>\n",
       "      <th>0</th>\n",
       "      <td>1.0</td>\n",
       "      <td>0.23</td>\n",
       "      <td>5.0</td>\n",
       "      <td>6.0</td>\n",
       "      <td>2.0</td>\n",
       "      <td>3</td>\n",
       "      <td>61.5</td>\n",
       "      <td>55.0</td>\n",
       "      <td>326.0</td>\n",
       "      <td>3.95</td>\n",
       "      <td>3.98</td>\n",
       "      <td>2.43</td>\n",
       "      <td>0.423827</td>\n",
       "    </tr>\n",
       "    <tr>\n",
       "      <th>1</th>\n",
       "      <td>2.0</td>\n",
       "      <td>0.21</td>\n",
       "      <td>4.0</td>\n",
       "      <td>6.0</td>\n",
       "      <td>3.0</td>\n",
       "      <td>3</td>\n",
       "      <td>59.8</td>\n",
       "      <td>61.0</td>\n",
       "      <td>326.0</td>\n",
       "      <td>3.89</td>\n",
       "      <td>3.84</td>\n",
       "      <td>2.31</td>\n",
       "      <td>0.402897</td>\n",
       "    </tr>\n",
       "    <tr>\n",
       "      <th>2</th>\n",
       "      <td>3.0</td>\n",
       "      <td>0.23</td>\n",
       "      <td>2.0</td>\n",
       "      <td>6.0</td>\n",
       "      <td>5.0</td>\n",
       "      <td>2</td>\n",
       "      <td>61.9</td>\n",
       "      <td>57.0</td>\n",
       "      <td>327.0</td>\n",
       "      <td>4.05</td>\n",
       "      <td>4.07</td>\n",
       "      <td>2.31</td>\n",
       "      <td>0.402897</td>\n",
       "    </tr>\n",
       "    <tr>\n",
       "      <th>3</th>\n",
       "      <td>4.0</td>\n",
       "      <td>0.29</td>\n",
       "      <td>4.0</td>\n",
       "      <td>2.0</td>\n",
       "      <td>4.0</td>\n",
       "      <td>1</td>\n",
       "      <td>62.4</td>\n",
       "      <td>58.0</td>\n",
       "      <td>334.0</td>\n",
       "      <td>4.20</td>\n",
       "      <td>4.23</td>\n",
       "      <td>2.63</td>\n",
       "      <td>0.458710</td>\n",
       "    </tr>\n",
       "    <tr>\n",
       "      <th>4</th>\n",
       "      <td>5.0</td>\n",
       "      <td>0.31</td>\n",
       "      <td>2.0</td>\n",
       "      <td>1.0</td>\n",
       "      <td>2.0</td>\n",
       "      <td>3</td>\n",
       "      <td>63.3</td>\n",
       "      <td>58.0</td>\n",
       "      <td>335.0</td>\n",
       "      <td>4.34</td>\n",
       "      <td>4.35</td>\n",
       "      <td>2.75</td>\n",
       "      <td>0.479639</td>\n",
       "    </tr>\n",
       "    <tr>\n",
       "      <th>...</th>\n",
       "      <td>...</td>\n",
       "      <td>...</td>\n",
       "      <td>...</td>\n",
       "      <td>...</td>\n",
       "      <td>...</td>\n",
       "      <td>...</td>\n",
       "      <td>...</td>\n",
       "      <td>...</td>\n",
       "      <td>...</td>\n",
       "      <td>...</td>\n",
       "      <td>...</td>\n",
       "      <td>...</td>\n",
       "      <td>...</td>\n",
       "    </tr>\n",
       "    <tr>\n",
       "      <th>53935</th>\n",
       "      <td>53936.0</td>\n",
       "      <td>0.72</td>\n",
       "      <td>5.0</td>\n",
       "      <td>7.0</td>\n",
       "      <td>3.0</td>\n",
       "      <td>3</td>\n",
       "      <td>60.8</td>\n",
       "      <td>57.0</td>\n",
       "      <td>2757.0</td>\n",
       "      <td>5.75</td>\n",
       "      <td>5.76</td>\n",
       "      <td>3.50</td>\n",
       "      <td>0.610450</td>\n",
       "    </tr>\n",
       "    <tr>\n",
       "      <th>53936</th>\n",
       "      <td>53937.0</td>\n",
       "      <td>0.72</td>\n",
       "      <td>2.0</td>\n",
       "      <td>7.0</td>\n",
       "      <td>3.0</td>\n",
       "      <td>3</td>\n",
       "      <td>63.1</td>\n",
       "      <td>55.0</td>\n",
       "      <td>2757.0</td>\n",
       "      <td>5.69</td>\n",
       "      <td>5.75</td>\n",
       "      <td>3.61</td>\n",
       "      <td>0.629636</td>\n",
       "    </tr>\n",
       "    <tr>\n",
       "      <th>53937</th>\n",
       "      <td>53938.0</td>\n",
       "      <td>0.70</td>\n",
       "      <td>3.0</td>\n",
       "      <td>7.0</td>\n",
       "      <td>3.0</td>\n",
       "      <td>3</td>\n",
       "      <td>62.8</td>\n",
       "      <td>60.0</td>\n",
       "      <td>2757.0</td>\n",
       "      <td>5.66</td>\n",
       "      <td>5.68</td>\n",
       "      <td>3.56</td>\n",
       "      <td>0.620915</td>\n",
       "    </tr>\n",
       "    <tr>\n",
       "      <th>53938</th>\n",
       "      <td>53939.0</td>\n",
       "      <td>0.86</td>\n",
       "      <td>4.0</td>\n",
       "      <td>3.0</td>\n",
       "      <td>2.0</td>\n",
       "      <td>3</td>\n",
       "      <td>61.0</td>\n",
       "      <td>58.0</td>\n",
       "      <td>2757.0</td>\n",
       "      <td>6.15</td>\n",
       "      <td>6.12</td>\n",
       "      <td>3.74</td>\n",
       "      <td>0.652309</td>\n",
       "    </tr>\n",
       "    <tr>\n",
       "      <th>53939</th>\n",
       "      <td>53940.0</td>\n",
       "      <td>0.75</td>\n",
       "      <td>5.0</td>\n",
       "      <td>7.0</td>\n",
       "      <td>2.0</td>\n",
       "      <td>3</td>\n",
       "      <td>62.2</td>\n",
       "      <td>55.0</td>\n",
       "      <td>2757.0</td>\n",
       "      <td>5.83</td>\n",
       "      <td>5.87</td>\n",
       "      <td>3.53</td>\n",
       "      <td>0.615682</td>\n",
       "    </tr>\n",
       "  </tbody>\n",
       "</table>\n",
       "<p>53927 rows × 13 columns</p>\n",
       "</div>"
      ],
      "text/plain": [
       "            id  carat  cut  color  clarity  popularity  depth  table   price  \\\n",
       "0          1.0   0.23  5.0    6.0      2.0           3   61.5   55.0   326.0   \n",
       "1          2.0   0.21  4.0    6.0      3.0           3   59.8   61.0   326.0   \n",
       "2          3.0   0.23  2.0    6.0      5.0           2   61.9   57.0   327.0   \n",
       "3          4.0   0.29  4.0    2.0      4.0           1   62.4   58.0   334.0   \n",
       "4          5.0   0.31  2.0    1.0      2.0           3   63.3   58.0   335.0   \n",
       "...        ...    ...  ...    ...      ...         ...    ...    ...     ...   \n",
       "53935  53936.0   0.72  5.0    7.0      3.0           3   60.8   57.0  2757.0   \n",
       "53936  53937.0   0.72  2.0    7.0      3.0           3   63.1   55.0  2757.0   \n",
       "53937  53938.0   0.70  3.0    7.0      3.0           3   62.8   60.0  2757.0   \n",
       "53938  53939.0   0.86  4.0    3.0      2.0           3   61.0   58.0  2757.0   \n",
       "53939  53940.0   0.75  5.0    7.0      2.0           3   62.2   55.0  2757.0   \n",
       "\n",
       "          x     y     z  computed depth  \n",
       "0      3.95  3.98  2.43        0.423827  \n",
       "1      3.89  3.84  2.31        0.402897  \n",
       "2      4.05  4.07  2.31        0.402897  \n",
       "3      4.20  4.23  2.63        0.458710  \n",
       "4      4.34  4.35  2.75        0.479639  \n",
       "...     ...   ...   ...             ...  \n",
       "53935  5.75  5.76  3.50        0.610450  \n",
       "53936  5.69  5.75  3.61        0.629636  \n",
       "53937  5.66  5.68  3.56        0.620915  \n",
       "53938  6.15  6.12  3.74        0.652309  \n",
       "53939  5.83  5.87  3.53        0.615682  \n",
       "\n",
       "[53927 rows x 13 columns]"
      ]
     },
     "execution_count": 101,
     "metadata": {},
     "output_type": "execute_result"
    }
   ],
   "source": [
    "df[(df['depth']-df['computed depth'])>df['depth']*.05]"
   ]
  },
  {
   "cell_type": "code",
   "execution_count": 102,
   "metadata": {},
   "outputs": [
    {
     "data": {
      "text/plain": [
       "3"
      ]
     },
     "execution_count": 102,
     "metadata": {},
     "output_type": "execute_result"
    }
   ],
   "source": []
  },
  {
   "cell_type": "code",
   "execution_count": 103,
   "metadata": {},
   "outputs": [
    {
     "data": {
      "text/plain": [
       "0.0"
      ]
     },
     "execution_count": 103,
     "metadata": {},
     "output_type": "execute_result"
    }
   ],
   "source": []
  },
  {
   "cell_type": "code",
   "execution_count": null,
   "metadata": {},
   "outputs": [],
   "source": []
  },
  {
   "cell_type": "code",
   "execution_count": null,
   "metadata": {},
   "outputs": [],
   "source": []
  }
 ],
 "metadata": {
  "kernelspec": {
   "display_name": "Python 3",
   "language": "python",
   "name": "python3"
  },
  "language_info": {
   "codemirror_mode": {
    "name": "ipython",
    "version": 3
   },
   "file_extension": ".py",
   "mimetype": "text/x-python",
   "name": "python",
   "nbconvert_exporter": "python",
   "pygments_lexer": "ipython3",
   "version": "3.8.8"
  }
 },
 "nbformat": 4,
 "nbformat_minor": 4
}
